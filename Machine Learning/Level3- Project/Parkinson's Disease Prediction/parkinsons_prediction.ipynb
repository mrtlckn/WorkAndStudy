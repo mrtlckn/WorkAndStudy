{
  "nbformat": 4,
  "nbformat_minor": 0,
  "metadata": {
    "colab": {
      "name": "08.06.2022.ipynb",
      "provenance": [],
      "collapsed_sections": []
    },
    "kernelspec": {
      "name": "python3",
      "display_name": "Python 3"
    },
    "language_info": {
      "name": "python"
    }
  },
  "cells": [
    {
      "cell_type": "code",
      "execution_count": null,
      "metadata": {
        "id": "mc5DhGj8T3L4"
      },
      "outputs": [],
      "source": [
        "import numpy as np\n",
        "import pandas as pd\n",
        "from sklearn.model_selection import train_test_split\n",
        "from sklearn.preprocessing import StandardScaler\n",
        "from sklearn import svm\n",
        "from sklearn.metrics import accuracy_score\n",
        "from sklearn.metrics import classification_report, confusion_matrix"
      ]
    },
    {
      "cell_type": "code",
      "source": [
        "# loading the data from csv file to a Pandas DataFrame\n",
        "parkinsons_data = pd.read_csv('/content/parkinsons.data')\n",
        "df = parkinsons_data"
      ],
      "metadata": {
        "id": "_seoH6jkUDhe"
      },
      "execution_count": null,
      "outputs": []
    },
    {
      "cell_type": "code",
      "source": [
        "\n",
        "assert pd.notnull(df).all().all()"
      ],
      "metadata": {
        "id": "Tn9KtMXTkT7l"
      },
      "execution_count": null,
      "outputs": []
    },
    {
      "cell_type": "markdown",
      "source": [
        "**Data Things**"
      ],
      "metadata": {
        "id": "FM6I3KY0Uhbj"
      }
    },
    {
      "cell_type": "code",
      "source": [
        "parkinsons_data"
      ],
      "metadata": {
        "colab": {
          "base_uri": "https://localhost:8080/",
          "height": 424
        },
        "id": "mH3edTMBUKeh",
        "outputId": "011f772d-bb09-4ffc-9616-a648be8dca15"
      },
      "execution_count": null,
      "outputs": [
        {
          "output_type": "execute_result",
          "data": {
            "text/plain": [
              "               name  MDVP:Fo(Hz)  MDVP:Fhi(Hz)  MDVP:Flo(Hz)  MDVP:Jitter(%)  \\\n",
              "0    phon_R01_S01_1      119.992       157.302        74.997         0.00784   \n",
              "1    phon_R01_S01_2      122.400       148.650       113.819         0.00968   \n",
              "2    phon_R01_S01_3      116.682       131.111       111.555         0.01050   \n",
              "3    phon_R01_S01_4      116.676       137.871       111.366         0.00997   \n",
              "4    phon_R01_S01_5      116.014       141.781       110.655         0.01284   \n",
              "..              ...          ...           ...           ...             ...   \n",
              "190  phon_R01_S50_2      174.188       230.978        94.261         0.00459   \n",
              "191  phon_R01_S50_3      209.516       253.017        89.488         0.00564   \n",
              "192  phon_R01_S50_4      174.688       240.005        74.287         0.01360   \n",
              "193  phon_R01_S50_5      198.764       396.961        74.904         0.00740   \n",
              "194  phon_R01_S50_6      214.289       260.277        77.973         0.00567   \n",
              "\n",
              "     MDVP:Jitter(Abs)  MDVP:RAP  MDVP:PPQ  Jitter:DDP  MDVP:Shimmer  ...  \\\n",
              "0             0.00007   0.00370   0.00554     0.01109       0.04374  ...   \n",
              "1             0.00008   0.00465   0.00696     0.01394       0.06134  ...   \n",
              "2             0.00009   0.00544   0.00781     0.01633       0.05233  ...   \n",
              "3             0.00009   0.00502   0.00698     0.01505       0.05492  ...   \n",
              "4             0.00011   0.00655   0.00908     0.01966       0.06425  ...   \n",
              "..                ...       ...       ...         ...           ...  ...   \n",
              "190           0.00003   0.00263   0.00259     0.00790       0.04087  ...   \n",
              "191           0.00003   0.00331   0.00292     0.00994       0.02751  ...   \n",
              "192           0.00008   0.00624   0.00564     0.01873       0.02308  ...   \n",
              "193           0.00004   0.00370   0.00390     0.01109       0.02296  ...   \n",
              "194           0.00003   0.00295   0.00317     0.00885       0.01884  ...   \n",
              "\n",
              "     Shimmer:DDA      NHR     HNR  status      RPDE       DFA   spread1  \\\n",
              "0        0.06545  0.02211  21.033       1  0.414783  0.815285 -4.813031   \n",
              "1        0.09403  0.01929  19.085       1  0.458359  0.819521 -4.075192   \n",
              "2        0.08270  0.01309  20.651       1  0.429895  0.825288 -4.443179   \n",
              "3        0.08771  0.01353  20.644       1  0.434969  0.819235 -4.117501   \n",
              "4        0.10470  0.01767  19.649       1  0.417356  0.823484 -3.747787   \n",
              "..           ...      ...     ...     ...       ...       ...       ...   \n",
              "190      0.07008  0.02764  19.517       0  0.448439  0.657899 -6.538586   \n",
              "191      0.04812  0.01810  19.147       0  0.431674  0.683244 -6.195325   \n",
              "192      0.03804  0.10715  17.883       0  0.407567  0.655683 -6.787197   \n",
              "193      0.03794  0.07223  19.020       0  0.451221  0.643956 -6.744577   \n",
              "194      0.03078  0.04398  21.209       0  0.462803  0.664357 -5.724056   \n",
              "\n",
              "      spread2        D2       PPE  \n",
              "0    0.266482  2.301442  0.284654  \n",
              "1    0.335590  2.486855  0.368674  \n",
              "2    0.311173  2.342259  0.332634  \n",
              "3    0.334147  2.405554  0.368975  \n",
              "4    0.234513  2.332180  0.410335  \n",
              "..        ...       ...       ...  \n",
              "190  0.121952  2.657476  0.133050  \n",
              "191  0.129303  2.784312  0.168895  \n",
              "192  0.158453  2.679772  0.131728  \n",
              "193  0.207454  2.138608  0.123306  \n",
              "194  0.190667  2.555477  0.148569  \n",
              "\n",
              "[195 rows x 24 columns]"
            ],
            "text/html": [
              "\n",
              "  <div id=\"df-b9611af6-8491-46fa-9034-3d0afcfb9d68\">\n",
              "    <div class=\"colab-df-container\">\n",
              "      <div>\n",
              "<style scoped>\n",
              "    .dataframe tbody tr th:only-of-type {\n",
              "        vertical-align: middle;\n",
              "    }\n",
              "\n",
              "    .dataframe tbody tr th {\n",
              "        vertical-align: top;\n",
              "    }\n",
              "\n",
              "    .dataframe thead th {\n",
              "        text-align: right;\n",
              "    }\n",
              "</style>\n",
              "<table border=\"1\" class=\"dataframe\">\n",
              "  <thead>\n",
              "    <tr style=\"text-align: right;\">\n",
              "      <th></th>\n",
              "      <th>name</th>\n",
              "      <th>MDVP:Fo(Hz)</th>\n",
              "      <th>MDVP:Fhi(Hz)</th>\n",
              "      <th>MDVP:Flo(Hz)</th>\n",
              "      <th>MDVP:Jitter(%)</th>\n",
              "      <th>MDVP:Jitter(Abs)</th>\n",
              "      <th>MDVP:RAP</th>\n",
              "      <th>MDVP:PPQ</th>\n",
              "      <th>Jitter:DDP</th>\n",
              "      <th>MDVP:Shimmer</th>\n",
              "      <th>...</th>\n",
              "      <th>Shimmer:DDA</th>\n",
              "      <th>NHR</th>\n",
              "      <th>HNR</th>\n",
              "      <th>status</th>\n",
              "      <th>RPDE</th>\n",
              "      <th>DFA</th>\n",
              "      <th>spread1</th>\n",
              "      <th>spread2</th>\n",
              "      <th>D2</th>\n",
              "      <th>PPE</th>\n",
              "    </tr>\n",
              "  </thead>\n",
              "  <tbody>\n",
              "    <tr>\n",
              "      <th>0</th>\n",
              "      <td>phon_R01_S01_1</td>\n",
              "      <td>119.992</td>\n",
              "      <td>157.302</td>\n",
              "      <td>74.997</td>\n",
              "      <td>0.00784</td>\n",
              "      <td>0.00007</td>\n",
              "      <td>0.00370</td>\n",
              "      <td>0.00554</td>\n",
              "      <td>0.01109</td>\n",
              "      <td>0.04374</td>\n",
              "      <td>...</td>\n",
              "      <td>0.06545</td>\n",
              "      <td>0.02211</td>\n",
              "      <td>21.033</td>\n",
              "      <td>1</td>\n",
              "      <td>0.414783</td>\n",
              "      <td>0.815285</td>\n",
              "      <td>-4.813031</td>\n",
              "      <td>0.266482</td>\n",
              "      <td>2.301442</td>\n",
              "      <td>0.284654</td>\n",
              "    </tr>\n",
              "    <tr>\n",
              "      <th>1</th>\n",
              "      <td>phon_R01_S01_2</td>\n",
              "      <td>122.400</td>\n",
              "      <td>148.650</td>\n",
              "      <td>113.819</td>\n",
              "      <td>0.00968</td>\n",
              "      <td>0.00008</td>\n",
              "      <td>0.00465</td>\n",
              "      <td>0.00696</td>\n",
              "      <td>0.01394</td>\n",
              "      <td>0.06134</td>\n",
              "      <td>...</td>\n",
              "      <td>0.09403</td>\n",
              "      <td>0.01929</td>\n",
              "      <td>19.085</td>\n",
              "      <td>1</td>\n",
              "      <td>0.458359</td>\n",
              "      <td>0.819521</td>\n",
              "      <td>-4.075192</td>\n",
              "      <td>0.335590</td>\n",
              "      <td>2.486855</td>\n",
              "      <td>0.368674</td>\n",
              "    </tr>\n",
              "    <tr>\n",
              "      <th>2</th>\n",
              "      <td>phon_R01_S01_3</td>\n",
              "      <td>116.682</td>\n",
              "      <td>131.111</td>\n",
              "      <td>111.555</td>\n",
              "      <td>0.01050</td>\n",
              "      <td>0.00009</td>\n",
              "      <td>0.00544</td>\n",
              "      <td>0.00781</td>\n",
              "      <td>0.01633</td>\n",
              "      <td>0.05233</td>\n",
              "      <td>...</td>\n",
              "      <td>0.08270</td>\n",
              "      <td>0.01309</td>\n",
              "      <td>20.651</td>\n",
              "      <td>1</td>\n",
              "      <td>0.429895</td>\n",
              "      <td>0.825288</td>\n",
              "      <td>-4.443179</td>\n",
              "      <td>0.311173</td>\n",
              "      <td>2.342259</td>\n",
              "      <td>0.332634</td>\n",
              "    </tr>\n",
              "    <tr>\n",
              "      <th>3</th>\n",
              "      <td>phon_R01_S01_4</td>\n",
              "      <td>116.676</td>\n",
              "      <td>137.871</td>\n",
              "      <td>111.366</td>\n",
              "      <td>0.00997</td>\n",
              "      <td>0.00009</td>\n",
              "      <td>0.00502</td>\n",
              "      <td>0.00698</td>\n",
              "      <td>0.01505</td>\n",
              "      <td>0.05492</td>\n",
              "      <td>...</td>\n",
              "      <td>0.08771</td>\n",
              "      <td>0.01353</td>\n",
              "      <td>20.644</td>\n",
              "      <td>1</td>\n",
              "      <td>0.434969</td>\n",
              "      <td>0.819235</td>\n",
              "      <td>-4.117501</td>\n",
              "      <td>0.334147</td>\n",
              "      <td>2.405554</td>\n",
              "      <td>0.368975</td>\n",
              "    </tr>\n",
              "    <tr>\n",
              "      <th>4</th>\n",
              "      <td>phon_R01_S01_5</td>\n",
              "      <td>116.014</td>\n",
              "      <td>141.781</td>\n",
              "      <td>110.655</td>\n",
              "      <td>0.01284</td>\n",
              "      <td>0.00011</td>\n",
              "      <td>0.00655</td>\n",
              "      <td>0.00908</td>\n",
              "      <td>0.01966</td>\n",
              "      <td>0.06425</td>\n",
              "      <td>...</td>\n",
              "      <td>0.10470</td>\n",
              "      <td>0.01767</td>\n",
              "      <td>19.649</td>\n",
              "      <td>1</td>\n",
              "      <td>0.417356</td>\n",
              "      <td>0.823484</td>\n",
              "      <td>-3.747787</td>\n",
              "      <td>0.234513</td>\n",
              "      <td>2.332180</td>\n",
              "      <td>0.410335</td>\n",
              "    </tr>\n",
              "    <tr>\n",
              "      <th>...</th>\n",
              "      <td>...</td>\n",
              "      <td>...</td>\n",
              "      <td>...</td>\n",
              "      <td>...</td>\n",
              "      <td>...</td>\n",
              "      <td>...</td>\n",
              "      <td>...</td>\n",
              "      <td>...</td>\n",
              "      <td>...</td>\n",
              "      <td>...</td>\n",
              "      <td>...</td>\n",
              "      <td>...</td>\n",
              "      <td>...</td>\n",
              "      <td>...</td>\n",
              "      <td>...</td>\n",
              "      <td>...</td>\n",
              "      <td>...</td>\n",
              "      <td>...</td>\n",
              "      <td>...</td>\n",
              "      <td>...</td>\n",
              "      <td>...</td>\n",
              "    </tr>\n",
              "    <tr>\n",
              "      <th>190</th>\n",
              "      <td>phon_R01_S50_2</td>\n",
              "      <td>174.188</td>\n",
              "      <td>230.978</td>\n",
              "      <td>94.261</td>\n",
              "      <td>0.00459</td>\n",
              "      <td>0.00003</td>\n",
              "      <td>0.00263</td>\n",
              "      <td>0.00259</td>\n",
              "      <td>0.00790</td>\n",
              "      <td>0.04087</td>\n",
              "      <td>...</td>\n",
              "      <td>0.07008</td>\n",
              "      <td>0.02764</td>\n",
              "      <td>19.517</td>\n",
              "      <td>0</td>\n",
              "      <td>0.448439</td>\n",
              "      <td>0.657899</td>\n",
              "      <td>-6.538586</td>\n",
              "      <td>0.121952</td>\n",
              "      <td>2.657476</td>\n",
              "      <td>0.133050</td>\n",
              "    </tr>\n",
              "    <tr>\n",
              "      <th>191</th>\n",
              "      <td>phon_R01_S50_3</td>\n",
              "      <td>209.516</td>\n",
              "      <td>253.017</td>\n",
              "      <td>89.488</td>\n",
              "      <td>0.00564</td>\n",
              "      <td>0.00003</td>\n",
              "      <td>0.00331</td>\n",
              "      <td>0.00292</td>\n",
              "      <td>0.00994</td>\n",
              "      <td>0.02751</td>\n",
              "      <td>...</td>\n",
              "      <td>0.04812</td>\n",
              "      <td>0.01810</td>\n",
              "      <td>19.147</td>\n",
              "      <td>0</td>\n",
              "      <td>0.431674</td>\n",
              "      <td>0.683244</td>\n",
              "      <td>-6.195325</td>\n",
              "      <td>0.129303</td>\n",
              "      <td>2.784312</td>\n",
              "      <td>0.168895</td>\n",
              "    </tr>\n",
              "    <tr>\n",
              "      <th>192</th>\n",
              "      <td>phon_R01_S50_4</td>\n",
              "      <td>174.688</td>\n",
              "      <td>240.005</td>\n",
              "      <td>74.287</td>\n",
              "      <td>0.01360</td>\n",
              "      <td>0.00008</td>\n",
              "      <td>0.00624</td>\n",
              "      <td>0.00564</td>\n",
              "      <td>0.01873</td>\n",
              "      <td>0.02308</td>\n",
              "      <td>...</td>\n",
              "      <td>0.03804</td>\n",
              "      <td>0.10715</td>\n",
              "      <td>17.883</td>\n",
              "      <td>0</td>\n",
              "      <td>0.407567</td>\n",
              "      <td>0.655683</td>\n",
              "      <td>-6.787197</td>\n",
              "      <td>0.158453</td>\n",
              "      <td>2.679772</td>\n",
              "      <td>0.131728</td>\n",
              "    </tr>\n",
              "    <tr>\n",
              "      <th>193</th>\n",
              "      <td>phon_R01_S50_5</td>\n",
              "      <td>198.764</td>\n",
              "      <td>396.961</td>\n",
              "      <td>74.904</td>\n",
              "      <td>0.00740</td>\n",
              "      <td>0.00004</td>\n",
              "      <td>0.00370</td>\n",
              "      <td>0.00390</td>\n",
              "      <td>0.01109</td>\n",
              "      <td>0.02296</td>\n",
              "      <td>...</td>\n",
              "      <td>0.03794</td>\n",
              "      <td>0.07223</td>\n",
              "      <td>19.020</td>\n",
              "      <td>0</td>\n",
              "      <td>0.451221</td>\n",
              "      <td>0.643956</td>\n",
              "      <td>-6.744577</td>\n",
              "      <td>0.207454</td>\n",
              "      <td>2.138608</td>\n",
              "      <td>0.123306</td>\n",
              "    </tr>\n",
              "    <tr>\n",
              "      <th>194</th>\n",
              "      <td>phon_R01_S50_6</td>\n",
              "      <td>214.289</td>\n",
              "      <td>260.277</td>\n",
              "      <td>77.973</td>\n",
              "      <td>0.00567</td>\n",
              "      <td>0.00003</td>\n",
              "      <td>0.00295</td>\n",
              "      <td>0.00317</td>\n",
              "      <td>0.00885</td>\n",
              "      <td>0.01884</td>\n",
              "      <td>...</td>\n",
              "      <td>0.03078</td>\n",
              "      <td>0.04398</td>\n",
              "      <td>21.209</td>\n",
              "      <td>0</td>\n",
              "      <td>0.462803</td>\n",
              "      <td>0.664357</td>\n",
              "      <td>-5.724056</td>\n",
              "      <td>0.190667</td>\n",
              "      <td>2.555477</td>\n",
              "      <td>0.148569</td>\n",
              "    </tr>\n",
              "  </tbody>\n",
              "</table>\n",
              "<p>195 rows × 24 columns</p>\n",
              "</div>\n",
              "      <button class=\"colab-df-convert\" onclick=\"convertToInteractive('df-b9611af6-8491-46fa-9034-3d0afcfb9d68')\"\n",
              "              title=\"Convert this dataframe to an interactive table.\"\n",
              "              style=\"display:none;\">\n",
              "        \n",
              "  <svg xmlns=\"http://www.w3.org/2000/svg\" height=\"24px\"viewBox=\"0 0 24 24\"\n",
              "       width=\"24px\">\n",
              "    <path d=\"M0 0h24v24H0V0z\" fill=\"none\"/>\n",
              "    <path d=\"M18.56 5.44l.94 2.06.94-2.06 2.06-.94-2.06-.94-.94-2.06-.94 2.06-2.06.94zm-11 1L8.5 8.5l.94-2.06 2.06-.94-2.06-.94L8.5 2.5l-.94 2.06-2.06.94zm10 10l.94 2.06.94-2.06 2.06-.94-2.06-.94-.94-2.06-.94 2.06-2.06.94z\"/><path d=\"M17.41 7.96l-1.37-1.37c-.4-.4-.92-.59-1.43-.59-.52 0-1.04.2-1.43.59L10.3 9.45l-7.72 7.72c-.78.78-.78 2.05 0 2.83L4 21.41c.39.39.9.59 1.41.59.51 0 1.02-.2 1.41-.59l7.78-7.78 2.81-2.81c.8-.78.8-2.07 0-2.86zM5.41 20L4 18.59l7.72-7.72 1.47 1.35L5.41 20z\"/>\n",
              "  </svg>\n",
              "      </button>\n",
              "      \n",
              "  <style>\n",
              "    .colab-df-container {\n",
              "      display:flex;\n",
              "      flex-wrap:wrap;\n",
              "      gap: 12px;\n",
              "    }\n",
              "\n",
              "    .colab-df-convert {\n",
              "      background-color: #E8F0FE;\n",
              "      border: none;\n",
              "      border-radius: 50%;\n",
              "      cursor: pointer;\n",
              "      display: none;\n",
              "      fill: #1967D2;\n",
              "      height: 32px;\n",
              "      padding: 0 0 0 0;\n",
              "      width: 32px;\n",
              "    }\n",
              "\n",
              "    .colab-df-convert:hover {\n",
              "      background-color: #E2EBFA;\n",
              "      box-shadow: 0px 1px 2px rgba(60, 64, 67, 0.3), 0px 1px 3px 1px rgba(60, 64, 67, 0.15);\n",
              "      fill: #174EA6;\n",
              "    }\n",
              "\n",
              "    [theme=dark] .colab-df-convert {\n",
              "      background-color: #3B4455;\n",
              "      fill: #D2E3FC;\n",
              "    }\n",
              "\n",
              "    [theme=dark] .colab-df-convert:hover {\n",
              "      background-color: #434B5C;\n",
              "      box-shadow: 0px 1px 3px 1px rgba(0, 0, 0, 0.15);\n",
              "      filter: drop-shadow(0px 1px 2px rgba(0, 0, 0, 0.3));\n",
              "      fill: #FFFFFF;\n",
              "    }\n",
              "  </style>\n",
              "\n",
              "      <script>\n",
              "        const buttonEl =\n",
              "          document.querySelector('#df-b9611af6-8491-46fa-9034-3d0afcfb9d68 button.colab-df-convert');\n",
              "        buttonEl.style.display =\n",
              "          google.colab.kernel.accessAllowed ? 'block' : 'none';\n",
              "\n",
              "        async function convertToInteractive(key) {\n",
              "          const element = document.querySelector('#df-b9611af6-8491-46fa-9034-3d0afcfb9d68');\n",
              "          const dataTable =\n",
              "            await google.colab.kernel.invokeFunction('convertToInteractive',\n",
              "                                                     [key], {});\n",
              "          if (!dataTable) return;\n",
              "\n",
              "          const docLinkHtml = 'Like what you see? Visit the ' +\n",
              "            '<a target=\"_blank\" href=https://colab.research.google.com/notebooks/data_table.ipynb>data table notebook</a>'\n",
              "            + ' to learn more about interactive tables.';\n",
              "          element.innerHTML = '';\n",
              "          dataTable['output_type'] = 'display_data';\n",
              "          await google.colab.output.renderOutput(dataTable, element);\n",
              "          const docLink = document.createElement('div');\n",
              "          docLink.innerHTML = docLinkHtml;\n",
              "          element.appendChild(docLink);\n",
              "        }\n",
              "      </script>\n",
              "    </div>\n",
              "  </div>\n",
              "  "
            ]
          },
          "metadata": {},
          "execution_count": 4
        }
      ]
    },
    {
      "cell_type": "code",
      "source": [
        "# getting more information about the dataset\n",
        "parkinsons_data.info()"
      ],
      "metadata": {
        "colab": {
          "base_uri": "https://localhost:8080/"
        },
        "id": "XzTAgOYMUKaY",
        "outputId": "e8ccd340-da99-442a-a679-0e056011c153"
      },
      "execution_count": null,
      "outputs": [
        {
          "output_type": "stream",
          "name": "stdout",
          "text": [
            "<class 'pandas.core.frame.DataFrame'>\n",
            "RangeIndex: 195 entries, 0 to 194\n",
            "Data columns (total 24 columns):\n",
            " #   Column            Non-Null Count  Dtype  \n",
            "---  ------            --------------  -----  \n",
            " 0   name              195 non-null    object \n",
            " 1   MDVP:Fo(Hz)       195 non-null    float64\n",
            " 2   MDVP:Fhi(Hz)      195 non-null    float64\n",
            " 3   MDVP:Flo(Hz)      195 non-null    float64\n",
            " 4   MDVP:Jitter(%)    195 non-null    float64\n",
            " 5   MDVP:Jitter(Abs)  195 non-null    float64\n",
            " 6   MDVP:RAP          195 non-null    float64\n",
            " 7   MDVP:PPQ          195 non-null    float64\n",
            " 8   Jitter:DDP        195 non-null    float64\n",
            " 9   MDVP:Shimmer      195 non-null    float64\n",
            " 10  MDVP:Shimmer(dB)  195 non-null    float64\n",
            " 11  Shimmer:APQ3      195 non-null    float64\n",
            " 12  Shimmer:APQ5      195 non-null    float64\n",
            " 13  MDVP:APQ          195 non-null    float64\n",
            " 14  Shimmer:DDA       195 non-null    float64\n",
            " 15  NHR               195 non-null    float64\n",
            " 16  HNR               195 non-null    float64\n",
            " 17  status            195 non-null    int64  \n",
            " 18  RPDE              195 non-null    float64\n",
            " 19  DFA               195 non-null    float64\n",
            " 20  spread1           195 non-null    float64\n",
            " 21  spread2           195 non-null    float64\n",
            " 22  D2                195 non-null    float64\n",
            " 23  PPE               195 non-null    float64\n",
            "dtypes: float64(22), int64(1), object(1)\n",
            "memory usage: 36.7+ KB\n"
          ]
        }
      ]
    },
    {
      "cell_type": "code",
      "source": [
        "# checking for missing values in each column\n",
        "parkinsons_data.isnull().sum()"
      ],
      "metadata": {
        "colab": {
          "base_uri": "https://localhost:8080/"
        },
        "id": "zmsLEvBMUKYg",
        "outputId": "ed46b845-7e5a-422b-8bf6-1bf1e9adee75"
      },
      "execution_count": null,
      "outputs": [
        {
          "output_type": "execute_result",
          "data": {
            "text/plain": [
              "name                0\n",
              "MDVP:Fo(Hz)         0\n",
              "MDVP:Fhi(Hz)        0\n",
              "MDVP:Flo(Hz)        0\n",
              "MDVP:Jitter(%)      0\n",
              "MDVP:Jitter(Abs)    0\n",
              "MDVP:RAP            0\n",
              "MDVP:PPQ            0\n",
              "Jitter:DDP          0\n",
              "MDVP:Shimmer        0\n",
              "MDVP:Shimmer(dB)    0\n",
              "Shimmer:APQ3        0\n",
              "Shimmer:APQ5        0\n",
              "MDVP:APQ            0\n",
              "Shimmer:DDA         0\n",
              "NHR                 0\n",
              "HNR                 0\n",
              "status              0\n",
              "RPDE                0\n",
              "DFA                 0\n",
              "spread1             0\n",
              "spread2             0\n",
              "D2                  0\n",
              "PPE                 0\n",
              "dtype: int64"
            ]
          },
          "metadata": {},
          "execution_count": 6
        }
      ]
    },
    {
      "cell_type": "code",
      "source": [
        "# getting some statistical measures about the data\n",
        "parkinsons_data.describe()"
      ],
      "metadata": {
        "colab": {
          "base_uri": "https://localhost:8080/",
          "height": 394
        },
        "id": "hSRCkabbUKWh",
        "outputId": "3269a8f1-a9ba-477a-b2ea-257604d44c92"
      },
      "execution_count": null,
      "outputs": [
        {
          "output_type": "execute_result",
          "data": {
            "text/plain": [
              "       MDVP:Fo(Hz)  MDVP:Fhi(Hz)  MDVP:Flo(Hz)  MDVP:Jitter(%)  \\\n",
              "count   195.000000    195.000000    195.000000      195.000000   \n",
              "mean    154.228641    197.104918    116.324631        0.006220   \n",
              "std      41.390065     91.491548     43.521413        0.004848   \n",
              "min      88.333000    102.145000     65.476000        0.001680   \n",
              "25%     117.572000    134.862500     84.291000        0.003460   \n",
              "50%     148.790000    175.829000    104.315000        0.004940   \n",
              "75%     182.769000    224.205500    140.018500        0.007365   \n",
              "max     260.105000    592.030000    239.170000        0.033160   \n",
              "\n",
              "       MDVP:Jitter(Abs)    MDVP:RAP    MDVP:PPQ  Jitter:DDP  MDVP:Shimmer  \\\n",
              "count        195.000000  195.000000  195.000000  195.000000    195.000000   \n",
              "mean           0.000044    0.003306    0.003446    0.009920      0.029709   \n",
              "std            0.000035    0.002968    0.002759    0.008903      0.018857   \n",
              "min            0.000007    0.000680    0.000920    0.002040      0.009540   \n",
              "25%            0.000020    0.001660    0.001860    0.004985      0.016505   \n",
              "50%            0.000030    0.002500    0.002690    0.007490      0.022970   \n",
              "75%            0.000060    0.003835    0.003955    0.011505      0.037885   \n",
              "max            0.000260    0.021440    0.019580    0.064330      0.119080   \n",
              "\n",
              "       MDVP:Shimmer(dB)  ...  Shimmer:DDA         NHR         HNR      status  \\\n",
              "count        195.000000  ...   195.000000  195.000000  195.000000  195.000000   \n",
              "mean           0.282251  ...     0.046993    0.024847   21.885974    0.753846   \n",
              "std            0.194877  ...     0.030459    0.040418    4.425764    0.431878   \n",
              "min            0.085000  ...     0.013640    0.000650    8.441000    0.000000   \n",
              "25%            0.148500  ...     0.024735    0.005925   19.198000    1.000000   \n",
              "50%            0.221000  ...     0.038360    0.011660   22.085000    1.000000   \n",
              "75%            0.350000  ...     0.060795    0.025640   25.075500    1.000000   \n",
              "max            1.302000  ...     0.169420    0.314820   33.047000    1.000000   \n",
              "\n",
              "             RPDE         DFA     spread1     spread2          D2         PPE  \n",
              "count  195.000000  195.000000  195.000000  195.000000  195.000000  195.000000  \n",
              "mean     0.498536    0.718099   -5.684397    0.226510    2.381826    0.206552  \n",
              "std      0.103942    0.055336    1.090208    0.083406    0.382799    0.090119  \n",
              "min      0.256570    0.574282   -7.964984    0.006274    1.423287    0.044539  \n",
              "25%      0.421306    0.674758   -6.450096    0.174351    2.099125    0.137451  \n",
              "50%      0.495954    0.722254   -5.720868    0.218885    2.361532    0.194052  \n",
              "75%      0.587562    0.761881   -5.046192    0.279234    2.636456    0.252980  \n",
              "max      0.685151    0.825288   -2.434031    0.450493    3.671155    0.527367  \n",
              "\n",
              "[8 rows x 23 columns]"
            ],
            "text/html": [
              "\n",
              "  <div id=\"df-12ab4356-d12d-4aad-9662-1be09b731721\">\n",
              "    <div class=\"colab-df-container\">\n",
              "      <div>\n",
              "<style scoped>\n",
              "    .dataframe tbody tr th:only-of-type {\n",
              "        vertical-align: middle;\n",
              "    }\n",
              "\n",
              "    .dataframe tbody tr th {\n",
              "        vertical-align: top;\n",
              "    }\n",
              "\n",
              "    .dataframe thead th {\n",
              "        text-align: right;\n",
              "    }\n",
              "</style>\n",
              "<table border=\"1\" class=\"dataframe\">\n",
              "  <thead>\n",
              "    <tr style=\"text-align: right;\">\n",
              "      <th></th>\n",
              "      <th>MDVP:Fo(Hz)</th>\n",
              "      <th>MDVP:Fhi(Hz)</th>\n",
              "      <th>MDVP:Flo(Hz)</th>\n",
              "      <th>MDVP:Jitter(%)</th>\n",
              "      <th>MDVP:Jitter(Abs)</th>\n",
              "      <th>MDVP:RAP</th>\n",
              "      <th>MDVP:PPQ</th>\n",
              "      <th>Jitter:DDP</th>\n",
              "      <th>MDVP:Shimmer</th>\n",
              "      <th>MDVP:Shimmer(dB)</th>\n",
              "      <th>...</th>\n",
              "      <th>Shimmer:DDA</th>\n",
              "      <th>NHR</th>\n",
              "      <th>HNR</th>\n",
              "      <th>status</th>\n",
              "      <th>RPDE</th>\n",
              "      <th>DFA</th>\n",
              "      <th>spread1</th>\n",
              "      <th>spread2</th>\n",
              "      <th>D2</th>\n",
              "      <th>PPE</th>\n",
              "    </tr>\n",
              "  </thead>\n",
              "  <tbody>\n",
              "    <tr>\n",
              "      <th>count</th>\n",
              "      <td>195.000000</td>\n",
              "      <td>195.000000</td>\n",
              "      <td>195.000000</td>\n",
              "      <td>195.000000</td>\n",
              "      <td>195.000000</td>\n",
              "      <td>195.000000</td>\n",
              "      <td>195.000000</td>\n",
              "      <td>195.000000</td>\n",
              "      <td>195.000000</td>\n",
              "      <td>195.000000</td>\n",
              "      <td>...</td>\n",
              "      <td>195.000000</td>\n",
              "      <td>195.000000</td>\n",
              "      <td>195.000000</td>\n",
              "      <td>195.000000</td>\n",
              "      <td>195.000000</td>\n",
              "      <td>195.000000</td>\n",
              "      <td>195.000000</td>\n",
              "      <td>195.000000</td>\n",
              "      <td>195.000000</td>\n",
              "      <td>195.000000</td>\n",
              "    </tr>\n",
              "    <tr>\n",
              "      <th>mean</th>\n",
              "      <td>154.228641</td>\n",
              "      <td>197.104918</td>\n",
              "      <td>116.324631</td>\n",
              "      <td>0.006220</td>\n",
              "      <td>0.000044</td>\n",
              "      <td>0.003306</td>\n",
              "      <td>0.003446</td>\n",
              "      <td>0.009920</td>\n",
              "      <td>0.029709</td>\n",
              "      <td>0.282251</td>\n",
              "      <td>...</td>\n",
              "      <td>0.046993</td>\n",
              "      <td>0.024847</td>\n",
              "      <td>21.885974</td>\n",
              "      <td>0.753846</td>\n",
              "      <td>0.498536</td>\n",
              "      <td>0.718099</td>\n",
              "      <td>-5.684397</td>\n",
              "      <td>0.226510</td>\n",
              "      <td>2.381826</td>\n",
              "      <td>0.206552</td>\n",
              "    </tr>\n",
              "    <tr>\n",
              "      <th>std</th>\n",
              "      <td>41.390065</td>\n",
              "      <td>91.491548</td>\n",
              "      <td>43.521413</td>\n",
              "      <td>0.004848</td>\n",
              "      <td>0.000035</td>\n",
              "      <td>0.002968</td>\n",
              "      <td>0.002759</td>\n",
              "      <td>0.008903</td>\n",
              "      <td>0.018857</td>\n",
              "      <td>0.194877</td>\n",
              "      <td>...</td>\n",
              "      <td>0.030459</td>\n",
              "      <td>0.040418</td>\n",
              "      <td>4.425764</td>\n",
              "      <td>0.431878</td>\n",
              "      <td>0.103942</td>\n",
              "      <td>0.055336</td>\n",
              "      <td>1.090208</td>\n",
              "      <td>0.083406</td>\n",
              "      <td>0.382799</td>\n",
              "      <td>0.090119</td>\n",
              "    </tr>\n",
              "    <tr>\n",
              "      <th>min</th>\n",
              "      <td>88.333000</td>\n",
              "      <td>102.145000</td>\n",
              "      <td>65.476000</td>\n",
              "      <td>0.001680</td>\n",
              "      <td>0.000007</td>\n",
              "      <td>0.000680</td>\n",
              "      <td>0.000920</td>\n",
              "      <td>0.002040</td>\n",
              "      <td>0.009540</td>\n",
              "      <td>0.085000</td>\n",
              "      <td>...</td>\n",
              "      <td>0.013640</td>\n",
              "      <td>0.000650</td>\n",
              "      <td>8.441000</td>\n",
              "      <td>0.000000</td>\n",
              "      <td>0.256570</td>\n",
              "      <td>0.574282</td>\n",
              "      <td>-7.964984</td>\n",
              "      <td>0.006274</td>\n",
              "      <td>1.423287</td>\n",
              "      <td>0.044539</td>\n",
              "    </tr>\n",
              "    <tr>\n",
              "      <th>25%</th>\n",
              "      <td>117.572000</td>\n",
              "      <td>134.862500</td>\n",
              "      <td>84.291000</td>\n",
              "      <td>0.003460</td>\n",
              "      <td>0.000020</td>\n",
              "      <td>0.001660</td>\n",
              "      <td>0.001860</td>\n",
              "      <td>0.004985</td>\n",
              "      <td>0.016505</td>\n",
              "      <td>0.148500</td>\n",
              "      <td>...</td>\n",
              "      <td>0.024735</td>\n",
              "      <td>0.005925</td>\n",
              "      <td>19.198000</td>\n",
              "      <td>1.000000</td>\n",
              "      <td>0.421306</td>\n",
              "      <td>0.674758</td>\n",
              "      <td>-6.450096</td>\n",
              "      <td>0.174351</td>\n",
              "      <td>2.099125</td>\n",
              "      <td>0.137451</td>\n",
              "    </tr>\n",
              "    <tr>\n",
              "      <th>50%</th>\n",
              "      <td>148.790000</td>\n",
              "      <td>175.829000</td>\n",
              "      <td>104.315000</td>\n",
              "      <td>0.004940</td>\n",
              "      <td>0.000030</td>\n",
              "      <td>0.002500</td>\n",
              "      <td>0.002690</td>\n",
              "      <td>0.007490</td>\n",
              "      <td>0.022970</td>\n",
              "      <td>0.221000</td>\n",
              "      <td>...</td>\n",
              "      <td>0.038360</td>\n",
              "      <td>0.011660</td>\n",
              "      <td>22.085000</td>\n",
              "      <td>1.000000</td>\n",
              "      <td>0.495954</td>\n",
              "      <td>0.722254</td>\n",
              "      <td>-5.720868</td>\n",
              "      <td>0.218885</td>\n",
              "      <td>2.361532</td>\n",
              "      <td>0.194052</td>\n",
              "    </tr>\n",
              "    <tr>\n",
              "      <th>75%</th>\n",
              "      <td>182.769000</td>\n",
              "      <td>224.205500</td>\n",
              "      <td>140.018500</td>\n",
              "      <td>0.007365</td>\n",
              "      <td>0.000060</td>\n",
              "      <td>0.003835</td>\n",
              "      <td>0.003955</td>\n",
              "      <td>0.011505</td>\n",
              "      <td>0.037885</td>\n",
              "      <td>0.350000</td>\n",
              "      <td>...</td>\n",
              "      <td>0.060795</td>\n",
              "      <td>0.025640</td>\n",
              "      <td>25.075500</td>\n",
              "      <td>1.000000</td>\n",
              "      <td>0.587562</td>\n",
              "      <td>0.761881</td>\n",
              "      <td>-5.046192</td>\n",
              "      <td>0.279234</td>\n",
              "      <td>2.636456</td>\n",
              "      <td>0.252980</td>\n",
              "    </tr>\n",
              "    <tr>\n",
              "      <th>max</th>\n",
              "      <td>260.105000</td>\n",
              "      <td>592.030000</td>\n",
              "      <td>239.170000</td>\n",
              "      <td>0.033160</td>\n",
              "      <td>0.000260</td>\n",
              "      <td>0.021440</td>\n",
              "      <td>0.019580</td>\n",
              "      <td>0.064330</td>\n",
              "      <td>0.119080</td>\n",
              "      <td>1.302000</td>\n",
              "      <td>...</td>\n",
              "      <td>0.169420</td>\n",
              "      <td>0.314820</td>\n",
              "      <td>33.047000</td>\n",
              "      <td>1.000000</td>\n",
              "      <td>0.685151</td>\n",
              "      <td>0.825288</td>\n",
              "      <td>-2.434031</td>\n",
              "      <td>0.450493</td>\n",
              "      <td>3.671155</td>\n",
              "      <td>0.527367</td>\n",
              "    </tr>\n",
              "  </tbody>\n",
              "</table>\n",
              "<p>8 rows × 23 columns</p>\n",
              "</div>\n",
              "      <button class=\"colab-df-convert\" onclick=\"convertToInteractive('df-12ab4356-d12d-4aad-9662-1be09b731721')\"\n",
              "              title=\"Convert this dataframe to an interactive table.\"\n",
              "              style=\"display:none;\">\n",
              "        \n",
              "  <svg xmlns=\"http://www.w3.org/2000/svg\" height=\"24px\"viewBox=\"0 0 24 24\"\n",
              "       width=\"24px\">\n",
              "    <path d=\"M0 0h24v24H0V0z\" fill=\"none\"/>\n",
              "    <path d=\"M18.56 5.44l.94 2.06.94-2.06 2.06-.94-2.06-.94-.94-2.06-.94 2.06-2.06.94zm-11 1L8.5 8.5l.94-2.06 2.06-.94-2.06-.94L8.5 2.5l-.94 2.06-2.06.94zm10 10l.94 2.06.94-2.06 2.06-.94-2.06-.94-.94-2.06-.94 2.06-2.06.94z\"/><path d=\"M17.41 7.96l-1.37-1.37c-.4-.4-.92-.59-1.43-.59-.52 0-1.04.2-1.43.59L10.3 9.45l-7.72 7.72c-.78.78-.78 2.05 0 2.83L4 21.41c.39.39.9.59 1.41.59.51 0 1.02-.2 1.41-.59l7.78-7.78 2.81-2.81c.8-.78.8-2.07 0-2.86zM5.41 20L4 18.59l7.72-7.72 1.47 1.35L5.41 20z\"/>\n",
              "  </svg>\n",
              "      </button>\n",
              "      \n",
              "  <style>\n",
              "    .colab-df-container {\n",
              "      display:flex;\n",
              "      flex-wrap:wrap;\n",
              "      gap: 12px;\n",
              "    }\n",
              "\n",
              "    .colab-df-convert {\n",
              "      background-color: #E8F0FE;\n",
              "      border: none;\n",
              "      border-radius: 50%;\n",
              "      cursor: pointer;\n",
              "      display: none;\n",
              "      fill: #1967D2;\n",
              "      height: 32px;\n",
              "      padding: 0 0 0 0;\n",
              "      width: 32px;\n",
              "    }\n",
              "\n",
              "    .colab-df-convert:hover {\n",
              "      background-color: #E2EBFA;\n",
              "      box-shadow: 0px 1px 2px rgba(60, 64, 67, 0.3), 0px 1px 3px 1px rgba(60, 64, 67, 0.15);\n",
              "      fill: #174EA6;\n",
              "    }\n",
              "\n",
              "    [theme=dark] .colab-df-convert {\n",
              "      background-color: #3B4455;\n",
              "      fill: #D2E3FC;\n",
              "    }\n",
              "\n",
              "    [theme=dark] .colab-df-convert:hover {\n",
              "      background-color: #434B5C;\n",
              "      box-shadow: 0px 1px 3px 1px rgba(0, 0, 0, 0.15);\n",
              "      filter: drop-shadow(0px 1px 2px rgba(0, 0, 0, 0.3));\n",
              "      fill: #FFFFFF;\n",
              "    }\n",
              "  </style>\n",
              "\n",
              "      <script>\n",
              "        const buttonEl =\n",
              "          document.querySelector('#df-12ab4356-d12d-4aad-9662-1be09b731721 button.colab-df-convert');\n",
              "        buttonEl.style.display =\n",
              "          google.colab.kernel.accessAllowed ? 'block' : 'none';\n",
              "\n",
              "        async function convertToInteractive(key) {\n",
              "          const element = document.querySelector('#df-12ab4356-d12d-4aad-9662-1be09b731721');\n",
              "          const dataTable =\n",
              "            await google.colab.kernel.invokeFunction('convertToInteractive',\n",
              "                                                     [key], {});\n",
              "          if (!dataTable) return;\n",
              "\n",
              "          const docLinkHtml = 'Like what you see? Visit the ' +\n",
              "            '<a target=\"_blank\" href=https://colab.research.google.com/notebooks/data_table.ipynb>data table notebook</a>'\n",
              "            + ' to learn more about interactive tables.';\n",
              "          element.innerHTML = '';\n",
              "          dataTable['output_type'] = 'display_data';\n",
              "          await google.colab.output.renderOutput(dataTable, element);\n",
              "          const docLink = document.createElement('div');\n",
              "          docLink.innerHTML = docLinkHtml;\n",
              "          element.appendChild(docLink);\n",
              "        }\n",
              "      </script>\n",
              "    </div>\n",
              "  </div>\n",
              "  "
            ]
          },
          "metadata": {},
          "execution_count": 7
        }
      ]
    },
    {
      "cell_type": "code",
      "source": [
        "import matplotlib.pyplot as plt\n",
        "import seaborn as sns\n",
        "\n",
        "f,ax = plt.subplots(figsize=(20, 20))\n",
        "sns.heatmap(parkinsons_data.corr(), annot = True, fmt= '.2f')\n",
        "plt.show()"
      ],
      "metadata": {
        "colab": {
          "base_uri": "https://localhost:8080/",
          "height": 1000
        },
        "id": "ThK1a5ewUKUd",
        "outputId": "3ccd67cf-0353-4495-cfa0-05e99317ab10"
      },
      "execution_count": null,
      "outputs": [
        {
          "output_type": "display_data",
          "data": {
            "text/plain": [
              "<Figure size 1440x1440 with 2 Axes>"
            ],
            "image/png": "[encoded data removed]"
          },
          "metadata": {
            "needs_background": "light"
          }
        }
      ]
    },
    {
      "cell_type": "code",
      "source": [
        "# distribution of target Variable\n",
        "parkinsons_data['status'].value_counts()"
      ],
      "metadata": {
        "colab": {
          "base_uri": "https://localhost:8080/"
        },
        "id": "kW97ar19UKSZ",
        "outputId": "7993d003-0a5b-4a62-db20-1ade13eb0f53"
      },
      "execution_count": null,
      "outputs": [
        {
          "output_type": "execute_result",
          "data": {
            "text/plain": [
              "1    147\n",
              "0     48\n",
              "Name: status, dtype: int64"
            ]
          },
          "metadata": {},
          "execution_count": 9
        }
      ]
    },
    {
      "cell_type": "markdown",
      "source": [
        "1 --> Parkinson's Positive\n",
        "\n",
        "0 --> Healthy"
      ],
      "metadata": {
        "id": "DHCTwtw_ViPA"
      }
    },
    {
      "cell_type": "code",
      "source": [
        "# grouping the data bas3ed on the target variable\n",
        "parkinsons_data.groupby('status').mean()"
      ],
      "metadata": {
        "colab": {
          "base_uri": "https://localhost:8080/",
          "height": 217
        },
        "id": "wqey4QN_UKQc",
        "outputId": "ae796f89-9b0c-455c-8789-77a9acc5c722"
      },
      "execution_count": null,
      "outputs": [
        {
          "output_type": "execute_result",
          "data": {
            "text/plain": [
              "        MDVP:Fo(Hz)  MDVP:Fhi(Hz)  MDVP:Flo(Hz)  MDVP:Jitter(%)  \\\n",
              "status                                                            \n",
              "0        181.937771    223.636750    145.207292        0.003866   \n",
              "1        145.180762    188.441463    106.893558        0.006989   \n",
              "\n",
              "        MDVP:Jitter(Abs)  MDVP:RAP  MDVP:PPQ  Jitter:DDP  MDVP:Shimmer  \\\n",
              "status                                                                   \n",
              "0               0.000023  0.001925  0.002056    0.005776      0.017615   \n",
              "1               0.000051  0.003757  0.003900    0.011273      0.033658   \n",
              "\n",
              "        MDVP:Shimmer(dB)  ...  MDVP:APQ  Shimmer:DDA       NHR        HNR  \\\n",
              "status                    ...                                               \n",
              "0               0.162958  ...  0.013305     0.028511  0.011483  24.678750   \n",
              "1               0.321204  ...  0.027600     0.053027  0.029211  20.974048   \n",
              "\n",
              "            RPDE       DFA   spread1   spread2        D2       PPE  \n",
              "status                                                              \n",
              "0       0.442552  0.695716 -6.759264  0.160292  2.154491  0.123017  \n",
              "1       0.516816  0.725408 -5.333420  0.248133  2.456058  0.233828  \n",
              "\n",
              "[2 rows x 22 columns]"
            ],
            "text/html": [
              "\n",
              "  <div id=\"df-0119b9fd-f1ac-46b3-921c-067e435ba987\">\n",
              "    <div class=\"colab-df-container\">\n",
              "      <div>\n",
              "<style scoped>\n",
              "    .dataframe tbody tr th:only-of-type {\n",
              "        vertical-align: middle;\n",
              "    }\n",
              "\n",
              "    .dataframe tbody tr th {\n",
              "        vertical-align: top;\n",
              "    }\n",
              "\n",
              "    .dataframe thead th {\n",
              "        text-align: right;\n",
              "    }\n",
              "</style>\n",
              "<table border=\"1\" class=\"dataframe\">\n",
              "  <thead>\n",
              "    <tr style=\"text-align: right;\">\n",
              "      <th></th>\n",
              "      <th>MDVP:Fo(Hz)</th>\n",
              "      <th>MDVP:Fhi(Hz)</th>\n",
              "      <th>MDVP:Flo(Hz)</th>\n",
              "      <th>MDVP:Jitter(%)</th>\n",
              "      <th>MDVP:Jitter(Abs)</th>\n",
              "      <th>MDVP:RAP</th>\n",
              "      <th>MDVP:PPQ</th>\n",
              "      <th>Jitter:DDP</th>\n",
              "      <th>MDVP:Shimmer</th>\n",
              "      <th>MDVP:Shimmer(dB)</th>\n",
              "      <th>...</th>\n",
              "      <th>MDVP:APQ</th>\n",
              "      <th>Shimmer:DDA</th>\n",
              "      <th>NHR</th>\n",
              "      <th>HNR</th>\n",
              "      <th>RPDE</th>\n",
              "      <th>DFA</th>\n",
              "      <th>spread1</th>\n",
              "      <th>spread2</th>\n",
              "      <th>D2</th>\n",
              "      <th>PPE</th>\n",
              "    </tr>\n",
              "    <tr>\n",
              "      <th>status</th>\n",
              "      <th></th>\n",
              "      <th></th>\n",
              "      <th></th>\n",
              "      <th></th>\n",
              "      <th></th>\n",
              "      <th></th>\n",
              "      <th></th>\n",
              "      <th></th>\n",
              "      <th></th>\n",
              "      <th></th>\n",
              "      <th></th>\n",
              "      <th></th>\n",
              "      <th></th>\n",
              "      <th></th>\n",
              "      <th></th>\n",
              "      <th></th>\n",
              "      <th></th>\n",
              "      <th></th>\n",
              "      <th></th>\n",
              "      <th></th>\n",
              "      <th></th>\n",
              "    </tr>\n",
              "  </thead>\n",
              "  <tbody>\n",
              "    <tr>\n",
              "      <th>0</th>\n",
              "      <td>181.937771</td>\n",
              "      <td>223.636750</td>\n",
              "      <td>145.207292</td>\n",
              "      <td>0.003866</td>\n",
              "      <td>0.000023</td>\n",
              "      <td>0.001925</td>\n",
              "      <td>0.002056</td>\n",
              "      <td>0.005776</td>\n",
              "      <td>0.017615</td>\n",
              "      <td>0.162958</td>\n",
              "      <td>...</td>\n",
              "      <td>0.013305</td>\n",
              "      <td>0.028511</td>\n",
              "      <td>0.011483</td>\n",
              "      <td>24.678750</td>\n",
              "      <td>0.442552</td>\n",
              "      <td>0.695716</td>\n",
              "      <td>-6.759264</td>\n",
              "      <td>0.160292</td>\n",
              "      <td>2.154491</td>\n",
              "      <td>0.123017</td>\n",
              "    </tr>\n",
              "    <tr>\n",
              "      <th>1</th>\n",
              "      <td>145.180762</td>\n",
              "      <td>188.441463</td>\n",
              "      <td>106.893558</td>\n",
              "      <td>0.006989</td>\n",
              "      <td>0.000051</td>\n",
              "      <td>0.003757</td>\n",
              "      <td>0.003900</td>\n",
              "      <td>0.011273</td>\n",
              "      <td>0.033658</td>\n",
              "      <td>0.321204</td>\n",
              "      <td>...</td>\n",
              "      <td>0.027600</td>\n",
              "      <td>0.053027</td>\n",
              "      <td>0.029211</td>\n",
              "      <td>20.974048</td>\n",
              "      <td>0.516816</td>\n",
              "      <td>0.725408</td>\n",
              "      <td>-5.333420</td>\n",
              "      <td>0.248133</td>\n",
              "      <td>2.456058</td>\n",
              "      <td>0.233828</td>\n",
              "    </tr>\n",
              "  </tbody>\n",
              "</table>\n",
              "<p>2 rows × 22 columns</p>\n",
              "</div>\n",
              "      <button class=\"colab-df-convert\" onclick=\"convertToInteractive('df-0119b9fd-f1ac-46b3-921c-067e435ba987')\"\n",
              "              title=\"Convert this dataframe to an interactive table.\"\n",
              "              style=\"display:none;\">\n",
              "        \n",
              "  <svg xmlns=\"http://www.w3.org/2000/svg\" height=\"24px\"viewBox=\"0 0 24 24\"\n",
              "       width=\"24px\">\n",
              "    <path d=\"M0 0h24v24H0V0z\" fill=\"none\"/>\n",
              "    <path d=\"M18.56 5.44l.94 2.06.94-2.06 2.06-.94-2.06-.94-.94-2.06-.94 2.06-2.06.94zm-11 1L8.5 8.5l.94-2.06 2.06-.94-2.06-.94L8.5 2.5l-.94 2.06-2.06.94zm10 10l.94 2.06.94-2.06 2.06-.94-2.06-.94-.94-2.06-.94 2.06-2.06.94z\"/><path d=\"M17.41 7.96l-1.37-1.37c-.4-.4-.92-.59-1.43-.59-.52 0-1.04.2-1.43.59L10.3 9.45l-7.72 7.72c-.78.78-.78 2.05 0 2.83L4 21.41c.39.39.9.59 1.41.59.51 0 1.02-.2 1.41-.59l7.78-7.78 2.81-2.81c.8-.78.8-2.07 0-2.86zM5.41 20L4 18.59l7.72-7.72 1.47 1.35L5.41 20z\"/>\n",
              "  </svg>\n",
              "      </button>\n",
              "      \n",
              "  <style>\n",
              "    .colab-df-container {\n",
              "      display:flex;\n",
              "      flex-wrap:wrap;\n",
              "      gap: 12px;\n",
              "    }\n",
              "\n",
              "    .colab-df-convert {\n",
              "      background-color: #E8F0FE;\n",
              "      border: none;\n",
              "      border-radius: 50%;\n",
              "      cursor: pointer;\n",
              "      display: none;\n",
              "      fill: #1967D2;\n",
              "      height: 32px;\n",
              "      padding: 0 0 0 0;\n",
              "      width: 32px;\n",
              "    }\n",
              "\n",
              "    .colab-df-convert:hover {\n",
              "      background-color: #E2EBFA;\n",
              "      box-shadow: 0px 1px 2px rgba(60, 64, 67, 0.3), 0px 1px 3px 1px rgba(60, 64, 67, 0.15);\n",
              "      fill: #174EA6;\n",
              "    }\n",
              "\n",
              "    [theme=dark] .colab-df-convert {\n",
              "      background-color: #3B4455;\n",
              "      fill: #D2E3FC;\n",
              "    }\n",
              "\n",
              "    [theme=dark] .colab-df-convert:hover {\n",
              "      background-color: #434B5C;\n",
              "      box-shadow: 0px 1px 3px 1px rgba(0, 0, 0, 0.15);\n",
              "      filter: drop-shadow(0px 1px 2px rgba(0, 0, 0, 0.3));\n",
              "      fill: #FFFFFF;\n",
              "    }\n",
              "  </style>\n",
              "\n",
              "      <script>\n",
              "        const buttonEl =\n",
              "          document.querySelector('#df-0119b9fd-f1ac-46b3-921c-067e435ba987 button.colab-df-convert');\n",
              "        buttonEl.style.display =\n",
              "          google.colab.kernel.accessAllowed ? 'block' : 'none';\n",
              "\n",
              "        async function convertToInteractive(key) {\n",
              "          const element = document.querySelector('#df-0119b9fd-f1ac-46b3-921c-067e435ba987');\n",
              "          const dataTable =\n",
              "            await google.colab.kernel.invokeFunction('convertToInteractive',\n",
              "                                                     [key], {});\n",
              "          if (!dataTable) return;\n",
              "\n",
              "          const docLinkHtml = 'Like what you see? Visit the ' +\n",
              "            '<a target=\"_blank\" href=https://colab.research.google.com/notebooks/data_table.ipynb>data table notebook</a>'\n",
              "            + ' to learn more about interactive tables.';\n",
              "          element.innerHTML = '';\n",
              "          dataTable['output_type'] = 'display_data';\n",
              "          await google.colab.output.renderOutput(dataTable, element);\n",
              "          const docLink = document.createElement('div');\n",
              "          docLink.innerHTML = docLinkHtml;\n",
              "          element.appendChild(docLink);\n",
              "        }\n",
              "      </script>\n",
              "    </div>\n",
              "  </div>\n",
              "  "
            ]
          },
          "metadata": {},
          "execution_count": 10
        }
      ]
    },
    {
      "cell_type": "markdown",
      "source": [
        "**Data Pre-Processing**"
      ],
      "metadata": {
        "id": "iM_oRlJNWPb3"
      }
    },
    {
      "cell_type": "code",
      "source": [
        "#Separating the features & Target\n",
        "X = parkinsons_data.drop(columns=['name','status'], axis=1)\n",
        "Y = parkinsons_data['status']"
      ],
      "metadata": {
        "id": "Hx2_sYYxUKMZ"
      },
      "execution_count": null,
      "outputs": []
    },
    {
      "cell_type": "code",
      "source": [
        "print(X.head(3))"
      ],
      "metadata": {
        "colab": {
          "base_uri": "https://localhost:8080/"
        },
        "id": "EFJhmk1fWOt5",
        "outputId": "7915a91f-4c7e-4670-e5b2-5ee9a152f7c9"
      },
      "execution_count": null,
      "outputs": [
        {
          "output_type": "stream",
          "name": "stdout",
          "text": [
            "   MDVP:Fo(Hz)  MDVP:Fhi(Hz)  MDVP:Flo(Hz)  MDVP:Jitter(%)  MDVP:Jitter(Abs)  \\\n",
            "0      119.992       157.302        74.997         0.00784           0.00007   \n",
            "1      122.400       148.650       113.819         0.00968           0.00008   \n",
            "2      116.682       131.111       111.555         0.01050           0.00009   \n",
            "\n",
            "   MDVP:RAP  MDVP:PPQ  Jitter:DDP  MDVP:Shimmer  MDVP:Shimmer(dB)  ...  \\\n",
            "0   0.00370   0.00554     0.01109       0.04374             0.426  ...   \n",
            "1   0.00465   0.00696     0.01394       0.06134             0.626  ...   \n",
            "2   0.00544   0.00781     0.01633       0.05233             0.482  ...   \n",
            "\n",
            "   MDVP:APQ  Shimmer:DDA      NHR     HNR      RPDE       DFA   spread1  \\\n",
            "0   0.02971      0.06545  0.02211  21.033  0.414783  0.815285 -4.813031   \n",
            "1   0.04368      0.09403  0.01929  19.085  0.458359  0.819521 -4.075192   \n",
            "2   0.03590      0.08270  0.01309  20.651  0.429895  0.825288 -4.443179   \n",
            "\n",
            "    spread2        D2       PPE  \n",
            "0  0.266482  2.301442  0.284654  \n",
            "1  0.335590  2.486855  0.368674  \n",
            "2  0.311173  2.342259  0.332634  \n",
            "\n",
            "[3 rows x 22 columns]\n"
          ]
        }
      ]
    },
    {
      "cell_type": "code",
      "source": [
        "Y.head(3)"
      ],
      "metadata": {
        "colab": {
          "base_uri": "https://localhost:8080/"
        },
        "id": "SvXxt3uIWOrq",
        "outputId": "ecf49ffd-950e-4b5f-fb75-a95e3f064802"
      },
      "execution_count": null,
      "outputs": [
        {
          "output_type": "execute_result",
          "data": {
            "text/plain": [
              "0    1\n",
              "1    1\n",
              "2    1\n",
              "Name: status, dtype: int64"
            ]
          },
          "metadata": {},
          "execution_count": 13
        }
      ]
    },
    {
      "cell_type": "markdown",
      "source": [
        "**Splitting the data to training data & Test data**"
      ],
      "metadata": {
        "id": "RoBAoV8SWoLY"
      }
    },
    {
      "cell_type": "code",
      "source": [
        "X_train, X_test, y_train, y_test = train_test_split(X, Y ,test_size=0.2, random_state=42)\n",
        "print(X.shape, X_train.shape, X_test.shape)"
      ],
      "metadata": {
        "colab": {
          "base_uri": "https://localhost:8080/"
        },
        "id": "jElvTNrGWOpw",
        "outputId": "c95b8616-2960-4d68-9272-6ab1b810bb99"
      },
      "execution_count": null,
      "outputs": [
        {
          "output_type": "stream",
          "name": "stdout",
          "text": [
            "(195, 22) (156, 22) (39, 22)\n"
          ]
        }
      ]
    },
    {
      "cell_type": "markdown",
      "source": [
        "**Model Training**\n",
        "---"
      ],
      "metadata": {
        "id": "0-W4JSG_W8LX"
      }
    },
    {
      "cell_type": "markdown",
      "source": [
        "**Logistic Regression**"
      ],
      "metadata": {
        "id": "paVB80jNXp2P"
      }
    },
    {
      "cell_type": "code",
      "source": [
        "from sklearn.linear_model import LogisticRegression\n",
        "from sklearn.metrics import accuracy_score, f1_score, confusion_matrix\n",
        "from sklearn.metrics import roc_auc_score\n",
        "\n",
        "test = LogisticRegression(max_iter=10000)\n",
        "\n",
        "test.fit(X_train, y_train) \n",
        "print('Train Accuracy: ', test.score(X_train, y_train))\n",
        "\n",
        "pred = test.predict(X_test)\n",
        "    \n",
        "print('f1 Score: ', f1_score(pred, y_test))\n",
        "print('Test Accuracy: ', accuracy_score(pred, y_test))\n"
      ],
      "metadata": {
        "colab": {
          "base_uri": "https://localhost:8080/"
        },
        "id": "NL6WGzIBWOl0",
        "outputId": "99d3324b-7cf9-4373-ce4e-5fa3a486c935"
      },
      "execution_count": null,
      "outputs": [
        {
          "output_type": "stream",
          "name": "stdout",
          "text": [
            "Train Accuracy:  0.8525641025641025\n",
            "f1 Score:  0.9411764705882353\n",
            "Test Accuracy:  0.8974358974358975\n"
          ]
        }
      ]
    },
    {
      "cell_type": "code",
      "source": [
        "cm = confusion_matrix(y_test, pred)\n",
        "cm\n",
        "\n",
        "\n",
        "plt.figure(figsize=(8,5))\n",
        "sns.heatmap(cm, annot=True);"
      ],
      "metadata": {
        "colab": {
          "base_uri": "https://localhost:8080/",
          "height": 320
        },
        "id": "_pTyb7yxq4xw",
        "outputId": "c1734787-079e-4e80-a29f-30f082ec2916"
      },
      "execution_count": null,
      "outputs": [
        {
          "output_type": "display_data",
          "data": {
            "text/plain": [
              "<Figure size 576x360 with 2 Axes>"
            ],
            "image/png": "[encoded data removed]"
          },
          "metadata": {
            "needs_background": "light"
          }
        }
      ]
    },
    {
      "cell_type": "markdown",
      "source": [
        "**Cross Val Score**"
      ],
      "metadata": {
        "id": "0g5sOGnY52nW"
      }
    },
    {
      "cell_type": "code",
      "source": [
        "from sklearn.model_selection import ShuffleSplit\n",
        "from sklearn.model_selection import cross_val_score\n",
        "\n",
        "cv = ShuffleSplit(n_splits = 5, test_size = 0.2, random_state = 30)\n",
        "\n",
        "cross_val_score(LogisticRegression(max_iter=1000),X,Y,cv=cv)"
      ],
      "metadata": {
        "colab": {
          "base_uri": "https://localhost:8080/"
        },
        "id": "xv9EgPDZ5rIm",
        "outputId": "c032a8db-2430-43e0-dc9a-b34fd4c47cad"
      },
      "execution_count": null,
      "outputs": [
        {
          "output_type": "execute_result",
          "data": {
            "text/plain": [
              "array([0.8974359 , 0.87179487, 0.82051282, 0.92307692, 0.8974359 ])"
            ]
          },
          "metadata": {},
          "execution_count": 17
        }
      ]
    },
    {
      "cell_type": "markdown",
      "source": [
        "---\n",
        "\n",
        "\n",
        "\n",
        "---\n",
        "\n",
        "**Feature Selection**\n",
        "--\n",
        "\n",
        "---\n",
        "\n",
        "\n",
        "\n",
        "---\n",
        "\n"
      ],
      "metadata": {
        "id": "3ce2QWPe6iBT"
      }
    },
    {
      "cell_type": "markdown",
      "source": [
        "Now we are going to select best features using **SelectKBest**\n"
      ],
      "metadata": {
        "id": "nVcs22QG6LXv"
      }
    },
    {
      "cell_type": "code",
      "source": [
        "from sklearn.feature_selection import SelectKBest, f_classif\n",
        "\n",
        "test_selector = SelectKBest(f_classif).fit(X_train, y_train)\n",
        "\n",
        "features = pd.DataFrame({'Features': list(X_train.columns), \"Score\": test_selector.scores_})\n",
        "features.sort_values(by='Score', ascending=False)"
      ],
      "metadata": {
        "colab": {
          "base_uri": "https://localhost:8080/",
          "height": 739
        },
        "id": "urDKmrGu5cvP",
        "outputId": "0f078925-daba-4667-e6e7-522a53cc6376"
      },
      "execution_count": null,
      "outputs": [
        {
          "output_type": "execute_result",
          "data": {
            "text/plain": [
              "            Features      Score\n",
              "18           spread1  73.263142\n",
              "21               PPE  63.327413\n",
              "19           spread2  40.337602\n",
              "0        MDVP:Fo(Hz)  28.878435\n",
              "15               HNR  27.195298\n",
              "2       MDVP:Flo(Hz)  26.144013\n",
              "8       MDVP:Shimmer  25.368770\n",
              "12          MDVP:APQ  24.585941\n",
              "20                D2  24.583667\n",
              "11      Shimmer:APQ5  23.643784\n",
              "9   MDVP:Shimmer(dB)  22.926989\n",
              "10      Shimmer:APQ3  22.394887\n",
              "13       Shimmer:DDA  22.392831\n",
              "4   MDVP:Jitter(Abs)  21.268588\n",
              "6           MDVP:PPQ  16.406405\n",
              "3     MDVP:Jitter(%)  14.798061\n",
              "16              RPDE  14.589134\n",
              "5           MDVP:RAP  13.583326\n",
              "7         Jitter:DDP  13.582494\n",
              "17               DFA  13.161609\n",
              "1       MDVP:Fhi(Hz)   8.559215\n",
              "14               NHR   7.403448"
            ],
            "text/html": [
              "\n",
              "  <div id=\"df-d0188050-8095-4392-a161-34b2ecd46e43\">\n",
              "    <div class=\"colab-df-container\">\n",
              "      <div>\n",
              "<style scoped>\n",
              "    .dataframe tbody tr th:only-of-type {\n",
              "        vertical-align: middle;\n",
              "    }\n",
              "\n",
              "    .dataframe tbody tr th {\n",
              "        vertical-align: top;\n",
              "    }\n",
              "\n",
              "    .dataframe thead th {\n",
              "        text-align: right;\n",
              "    }\n",
              "</style>\n",
              "<table border=\"1\" class=\"dataframe\">\n",
              "  <thead>\n",
              "    <tr style=\"text-align: right;\">\n",
              "      <th></th>\n",
              "      <th>Features</th>\n",
              "      <th>Score</th>\n",
              "    </tr>\n",
              "  </thead>\n",
              "  <tbody>\n",
              "    <tr>\n",
              "      <th>18</th>\n",
              "      <td>spread1</td>\n",
              "      <td>73.263142</td>\n",
              "    </tr>\n",
              "    <tr>\n",
              "      <th>21</th>\n",
              "      <td>PPE</td>\n",
              "      <td>63.327413</td>\n",
              "    </tr>\n",
              "    <tr>\n",
              "      <th>19</th>\n",
              "      <td>spread2</td>\n",
              "      <td>40.337602</td>\n",
              "    </tr>\n",
              "    <tr>\n",
              "      <th>0</th>\n",
              "      <td>MDVP:Fo(Hz)</td>\n",
              "      <td>28.878435</td>\n",
              "    </tr>\n",
              "    <tr>\n",
              "      <th>15</th>\n",
              "      <td>HNR</td>\n",
              "      <td>27.195298</td>\n",
              "    </tr>\n",
              "    <tr>\n",
              "      <th>2</th>\n",
              "      <td>MDVP:Flo(Hz)</td>\n",
              "      <td>26.144013</td>\n",
              "    </tr>\n",
              "    <tr>\n",
              "      <th>8</th>\n",
              "      <td>MDVP:Shimmer</td>\n",
              "      <td>25.368770</td>\n",
              "    </tr>\n",
              "    <tr>\n",
              "      <th>12</th>\n",
              "      <td>MDVP:APQ</td>\n",
              "      <td>24.585941</td>\n",
              "    </tr>\n",
              "    <tr>\n",
              "      <th>20</th>\n",
              "      <td>D2</td>\n",
              "      <td>24.583667</td>\n",
              "    </tr>\n",
              "    <tr>\n",
              "      <th>11</th>\n",
              "      <td>Shimmer:APQ5</td>\n",
              "      <td>23.643784</td>\n",
              "    </tr>\n",
              "    <tr>\n",
              "      <th>9</th>\n",
              "      <td>MDVP:Shimmer(dB)</td>\n",
              "      <td>22.926989</td>\n",
              "    </tr>\n",
              "    <tr>\n",
              "      <th>10</th>\n",
              "      <td>Shimmer:APQ3</td>\n",
              "      <td>22.394887</td>\n",
              "    </tr>\n",
              "    <tr>\n",
              "      <th>13</th>\n",
              "      <td>Shimmer:DDA</td>\n",
              "      <td>22.392831</td>\n",
              "    </tr>\n",
              "    <tr>\n",
              "      <th>4</th>\n",
              "      <td>MDVP:Jitter(Abs)</td>\n",
              "      <td>21.268588</td>\n",
              "    </tr>\n",
              "    <tr>\n",
              "      <th>6</th>\n",
              "      <td>MDVP:PPQ</td>\n",
              "      <td>16.406405</td>\n",
              "    </tr>\n",
              "    <tr>\n",
              "      <th>3</th>\n",
              "      <td>MDVP:Jitter(%)</td>\n",
              "      <td>14.798061</td>\n",
              "    </tr>\n",
              "    <tr>\n",
              "      <th>16</th>\n",
              "      <td>RPDE</td>\n",
              "      <td>14.589134</td>\n",
              "    </tr>\n",
              "    <tr>\n",
              "      <th>5</th>\n",
              "      <td>MDVP:RAP</td>\n",
              "      <td>13.583326</td>\n",
              "    </tr>\n",
              "    <tr>\n",
              "      <th>7</th>\n",
              "      <td>Jitter:DDP</td>\n",
              "      <td>13.582494</td>\n",
              "    </tr>\n",
              "    <tr>\n",
              "      <th>17</th>\n",
              "      <td>DFA</td>\n",
              "      <td>13.161609</td>\n",
              "    </tr>\n",
              "    <tr>\n",
              "      <th>1</th>\n",
              "      <td>MDVP:Fhi(Hz)</td>\n",
              "      <td>8.559215</td>\n",
              "    </tr>\n",
              "    <tr>\n",
              "      <th>14</th>\n",
              "      <td>NHR</td>\n",
              "      <td>7.403448</td>\n",
              "    </tr>\n",
              "  </tbody>\n",
              "</table>\n",
              "</div>\n",
              "      <button class=\"colab-df-convert\" onclick=\"convertToInteractive('df-d0188050-8095-4392-a161-34b2ecd46e43')\"\n",
              "              title=\"Convert this dataframe to an interactive table.\"\n",
              "              style=\"display:none;\">\n",
              "        \n",
              "  <svg xmlns=\"http://www.w3.org/2000/svg\" height=\"24px\"viewBox=\"0 0 24 24\"\n",
              "       width=\"24px\">\n",
              "    <path d=\"M0 0h24v24H0V0z\" fill=\"none\"/>\n",
              "    <path d=\"M18.56 5.44l.94 2.06.94-2.06 2.06-.94-2.06-.94-.94-2.06-.94 2.06-2.06.94zm-11 1L8.5 8.5l.94-2.06 2.06-.94-2.06-.94L8.5 2.5l-.94 2.06-2.06.94zm10 10l.94 2.06.94-2.06 2.06-.94-2.06-.94-.94-2.06-.94 2.06-2.06.94z\"/><path d=\"M17.41 7.96l-1.37-1.37c-.4-.4-.92-.59-1.43-.59-.52 0-1.04.2-1.43.59L10.3 9.45l-7.72 7.72c-.78.78-.78 2.05 0 2.83L4 21.41c.39.39.9.59 1.41.59.51 0 1.02-.2 1.41-.59l7.78-7.78 2.81-2.81c.8-.78.8-2.07 0-2.86zM5.41 20L4 18.59l7.72-7.72 1.47 1.35L5.41 20z\"/>\n",
              "  </svg>\n",
              "      </button>\n",
              "      \n",
              "  <style>\n",
              "    .colab-df-container {\n",
              "      display:flex;\n",
              "      flex-wrap:wrap;\n",
              "      gap: 12px;\n",
              "    }\n",
              "\n",
              "    .colab-df-convert {\n",
              "      background-color: #E8F0FE;\n",
              "      border: none;\n",
              "      border-radius: 50%;\n",
              "      cursor: pointer;\n",
              "      display: none;\n",
              "      fill: #1967D2;\n",
              "      height: 32px;\n",
              "      padding: 0 0 0 0;\n",
              "      width: 32px;\n",
              "    }\n",
              "\n",
              "    .colab-df-convert:hover {\n",
              "      background-color: #E2EBFA;\n",
              "      box-shadow: 0px 1px 2px rgba(60, 64, 67, 0.3), 0px 1px 3px 1px rgba(60, 64, 67, 0.15);\n",
              "      fill: #174EA6;\n",
              "    }\n",
              "\n",
              "    [theme=dark] .colab-df-convert {\n",
              "      background-color: #3B4455;\n",
              "      fill: #D2E3FC;\n",
              "    }\n",
              "\n",
              "    [theme=dark] .colab-df-convert:hover {\n",
              "      background-color: #434B5C;\n",
              "      box-shadow: 0px 1px 3px 1px rgba(0, 0, 0, 0.15);\n",
              "      filter: drop-shadow(0px 1px 2px rgba(0, 0, 0, 0.3));\n",
              "      fill: #FFFFFF;\n",
              "    }\n",
              "  </style>\n",
              "\n",
              "      <script>\n",
              "        const buttonEl =\n",
              "          document.querySelector('#df-d0188050-8095-4392-a161-34b2ecd46e43 button.colab-df-convert');\n",
              "        buttonEl.style.display =\n",
              "          google.colab.kernel.accessAllowed ? 'block' : 'none';\n",
              "\n",
              "        async function convertToInteractive(key) {\n",
              "          const element = document.querySelector('#df-d0188050-8095-4392-a161-34b2ecd46e43');\n",
              "          const dataTable =\n",
              "            await google.colab.kernel.invokeFunction('convertToInteractive',\n",
              "                                                     [key], {});\n",
              "          if (!dataTable) return;\n",
              "\n",
              "          const docLinkHtml = 'Like what you see? Visit the ' +\n",
              "            '<a target=\"_blank\" href=https://colab.research.google.com/notebooks/data_table.ipynb>data table notebook</a>'\n",
              "            + ' to learn more about interactive tables.';\n",
              "          element.innerHTML = '';\n",
              "          dataTable['output_type'] = 'display_data';\n",
              "          await google.colab.output.renderOutput(dataTable, element);\n",
              "          const docLink = document.createElement('div');\n",
              "          docLink.innerHTML = docLinkHtml;\n",
              "          element.appendChild(docLink);\n",
              "        }\n",
              "      </script>\n",
              "    </div>\n",
              "  </div>\n",
              "  "
            ]
          },
          "metadata": {},
          "execution_count": 18
        }
      ]
    },
    {
      "cell_type": "code",
      "source": [
        "selector = SelectKBest(f_classif, k=3).fit(X_train, y_train)\n",
        "train_selected = selector.transform(X_train)\n",
        "test_selected = selector.transform(X_test)\n",
        "\n"
      ],
      "metadata": {
        "id": "A6yk1-ll5ctV"
      },
      "execution_count": null,
      "outputs": []
    },
    {
      "cell_type": "code",
      "source": [
        "clf = LogisticRegression(max_iter=1000)\n",
        "\n",
        "clf.fit(train_selected, y_train) \n",
        "print('Train Accuracy: ', clf.score(train_selected, y_train))\n",
        "pred = clf.predict(test_selected)\n",
        "    \n",
        "print('Test Accuracy: ', accuracy_score(pred, y_test))\n",
        "\n",
        "    \n",
        "print('f1 Score: ', f1_score(pred, y_test))\n",
        "\n"
      ],
      "metadata": {
        "colab": {
          "base_uri": "https://localhost:8080/"
        },
        "id": "AkkOJMUz5crl",
        "outputId": "4aa1aa13-8210-4ab2-cbc5-6a6e677486b3"
      },
      "execution_count": null,
      "outputs": [
        {
          "output_type": "stream",
          "name": "stdout",
          "text": [
            "Train Accuracy:  0.8397435897435898\n",
            "Test Accuracy:  0.9230769230769231\n",
            "f1 Score:  0.955223880597015\n"
          ]
        }
      ]
    },
    {
      "cell_type": "code",
      "source": [
        "cm = confusion_matrix(y_test, pred)\n",
        "\n",
        "plt.figure(figsize=(8,5))\n",
        "sns.heatmap(cm, annot=True);"
      ],
      "metadata": {
        "colab": {
          "base_uri": "https://localhost:8080/",
          "height": 320
        },
        "id": "7VvZzTbP5cpN",
        "outputId": "99bd3bc4-e73b-4a3c-d7ff-d62d7d4724e8"
      },
      "execution_count": null,
      "outputs": [
        {
          "output_type": "display_data",
          "data": {
            "text/plain": [
              "<Figure size 576x360 with 2 Axes>"
            ],
            "image/png": "[encoded data removed]"
          },
          "metadata": {
            "needs_background": "light"
          }
        }
      ]
    },
    {
      "cell_type": "code",
      "source": [
        "print(classification_report(y_test, pred))"
      ],
      "metadata": {
        "colab": {
          "base_uri": "https://localhost:8080/"
        },
        "id": "68e4UBRu61qE",
        "outputId": "bb7c155d-1960-4e77-9b7f-5751b4e1848a"
      },
      "execution_count": null,
      "outputs": [
        {
          "output_type": "stream",
          "name": "stdout",
          "text": [
            "              precision    recall  f1-score   support\n",
            "\n",
            "           0       1.00      0.57      0.73         7\n",
            "           1       0.91      1.00      0.96        32\n",
            "\n",
            "    accuracy                           0.92        39\n",
            "   macro avg       0.96      0.79      0.84        39\n",
            "weighted avg       0.93      0.92      0.91        39\n",
            "\n"
          ]
        }
      ]
    },
    {
      "cell_type": "markdown",
      "source": [
        "`Logistic Regression `\n",
        "\n",
        "*   Train Accuracy:  0.8525641025641025\n",
        "*   f1 Score:  0.9411764705882353\n",
        "*   Test Accuracy:  0.8974358974358975\n",
        "\n",
        "![LR.png](data:image/png;base64,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)\n",
        "\n",
        "**FeatureSelection**\n",
        "`Logistic Regression with SelectKbest( best of 3 features) `\n",
        "\n",
        "*   Train Accuracy:  0.8397435897435898\n",
        "*   f1 Score:  0.9230769230769231\n",
        "*   Test Accuracy:  0.955223880597015\n",
        "\n",
        "![selection.png](data:image/png;base64,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)"
      ],
      "metadata": {
        "id": "xvuoYlIp6ANE"
      }
    },
    {
      "cell_type": "markdown",
      "source": [
        "\n",
        "\n",
        "\n",
        "---\n",
        "\n",
        "\n",
        "\n",
        "---\n",
        "\n",
        "**Feature Extraction**\n",
        "--\n",
        "\n",
        "---\n",
        "\n",
        "\n",
        "\n",
        "---\n",
        "\n"
      ],
      "metadata": {
        "id": "VE-moE859UAD"
      }
    },
    {
      "cell_type": "markdown",
      "source": [
        "**PCA**"
      ],
      "metadata": {
        "id": "up8UTX6G4Vbd"
      }
    },
    {
      "cell_type": "markdown",
      "source": [
        "With 3 components"
      ],
      "metadata": {
        "id": "7USF7sZI-XNn"
      }
    },
    {
      "cell_type": "code",
      "source": [
        "from sklearn.decomposition import PCA\n",
        "pca = PCA(0.95) #retain 95 percent of useful features\n",
        "X_pca = pca.fit_transform(X)\n",
        "X_pca.shape\n"
      ],
      "metadata": {
        "id": "BoL8dfq0WOhr",
        "colab": {
          "base_uri": "https://localhost:8080/"
        },
        "outputId": "f645c672-7d08-4493-dedf-4aa42323a0d0"
      },
      "execution_count": null,
      "outputs": [
        {
          "output_type": "execute_result",
          "data": {
            "text/plain": [
              "(195, 3)"
            ]
          },
          "metadata": {},
          "execution_count": 23
        }
      ]
    },
    {
      "cell_type": "code",
      "source": [
        "X_train_pca, X_test_pca, y_train, y_test =train_test_split(X_pca,Y,test_size = 0.2, random_state = 30)"
      ],
      "metadata": {
        "id": "FXRgVgwqv_kY"
      },
      "execution_count": null,
      "outputs": []
    },
    {
      "cell_type": "code",
      "source": [
        "model = LogisticRegression(max_iter = 1000)\n",
        "model.fit(X_train_pca,y_train)\n",
        "print('Train Accuracy: ', model.score(X_train_pca, y_train))\n",
        "\n",
        "#print(model.score(X_test_pca,y_test))\n",
        "pred = model.predict(X_test_pca)\n",
        "\n",
        "print('Test Accuracy: ', accuracy_score(pred, y_test))    \n",
        "print('f1 Score: ', f1_score(pred, y_test))\n",
        "\n",
        "#Confusion matrix\n",
        "cm = confusion_matrix(y_test, pred)\n",
        "\n",
        "plt.figure(figsize=(8,5))\n",
        "sns.heatmap(cm, annot=True);"
      ],
      "metadata": {
        "id": "wMn3G87GWOfp",
        "colab": {
          "base_uri": "https://localhost:8080/",
          "height": 376
        },
        "outputId": "d5e553cf-cd67-44cd-acdc-c78029099979"
      },
      "execution_count": null,
      "outputs": [
        {
          "output_type": "stream",
          "name": "stdout",
          "text": [
            "Train Accuracy:  0.8653846153846154\n",
            "Test Accuracy:  0.8974358974358975\n",
            "f1 Score:  0.9411764705882353\n"
          ]
        },
        {
          "output_type": "display_data",
          "data": {
            "text/plain": [
              "<Figure size 576x360 with 2 Axes>"
            ],
            "image/png": "[encoded data removed]"
          },
          "metadata": {
            "needs_background": "light"
          }
        }
      ]
    },
    {
      "cell_type": "markdown",
      "source": [
        "With 10 components"
      ],
      "metadata": {
        "id": "rwXhSWok-oDI"
      }
    },
    {
      "cell_type": "code",
      "source": [
        "pca = PCA(n_components=10)#we have 10 PCA\n",
        "X_pca = pca.fit_transform(X)\n",
        "X_pca.shape"
      ],
      "metadata": {
        "id": "g1Ust5eCWObv",
        "colab": {
          "base_uri": "https://localhost:8080/"
        },
        "outputId": "f041f3e9-fae0-4047-c7fa-49efe5d19a6e"
      },
      "execution_count": null,
      "outputs": [
        {
          "output_type": "execute_result",
          "data": {
            "text/plain": [
              "(195, 10)"
            ]
          },
          "metadata": {},
          "execution_count": 57
        }
      ]
    },
    {
      "cell_type": "code",
      "source": [
        "X_train_pca, X_test_pca, y_train, y_test =train_test_split(X_pca,Y,test_size = 0.2, random_state = 30)\n",
        "\n",
        "model = LogisticRegression(max_iter = 1000)\n",
        "model.fit(X_train_pca,y_train)\n",
        "print('Train Accuracy: ', model.score(X_train_pca, y_train))\n",
        "\n",
        "\n",
        "pred = model.predict(X_test_pca)\n",
        "\n",
        "print('Test Accuracy: ', accuracy_score(pred, y_test))    \n",
        "print('f1 Score: ', f1_score(pred, y_test))\n",
        "\n",
        "#Consusion Matrix\n",
        "cm = confusion_matrix(y_test, pred)\n",
        "\n",
        "plt.figure(figsize=(8,5))\n",
        "sns.heatmap(cm, annot=True);"
      ],
      "metadata": {
        "id": "3KNO14UEWOZ2",
        "colab": {
          "base_uri": "https://localhost:8080/",
          "height": 376
        },
        "outputId": "b70f8bb5-f299-4ff5-cf75-261abcef29ca"
      },
      "execution_count": null,
      "outputs": [
        {
          "output_type": "stream",
          "name": "stdout",
          "text": [
            "Train Accuracy:  0.8653846153846154\n",
            "Test Accuracy:  0.8974358974358975\n",
            "f1 Score:  0.9411764705882353\n"
          ]
        },
        {
          "output_type": "display_data",
          "data": {
            "text/plain": [
              "<Figure size 576x360 with 2 Axes>"
            ],
            "image/png": "[encoded data removed]"
          },
          "metadata": {
            "needs_background": "light"
          }
        }
      ]
    },
    {
      "cell_type": "markdown",
      "source": [
        "sns.pairplot(parkinsons_data, hue=\"PPE\")\n",
        "plt.show()"
      ],
      "metadata": {
        "id": "3-Ct1uny4y3k"
      }
    },
    {
      "cell_type": "markdown",
      "source": [
        "sns.pairplot(parkinsons_data, hue=\"status\")\n",
        "plt.show()"
      ],
      "metadata": {
        "id": "L2UhmoKu4y1T"
      }
    },
    {
      "cell_type": "markdown",
      "source": [
        "\n",
        "\n",
        "\n",
        "---\n",
        "\n",
        "\n",
        "\n",
        "---\n",
        "\n",
        "**Feature Selection with Feature Importance**\n",
        "---\n",
        "\n",
        "\n",
        "---\n",
        "\n",
        "\n",
        "\n",
        "---"
      ],
      "metadata": {
        "id": "U2OzLwSh9jC1"
      }
    },
    {
      "cell_type": "markdown",
      "source": [
        "**With LGBMClassifier model**"
      ],
      "metadata": {
        "id": "H2XQdfrQHoxb"
      }
    },
    {
      "cell_type": "code",
      "source": [
        "!pip install featuretools"
      ],
      "metadata": {
        "colab": {
          "base_uri": "https://localhost:8080/"
        },
        "id": "M4-a1UsOFzML",
        "outputId": "8de05fd1-8c83-4177-8afc-00ca5200242a"
      },
      "execution_count": null,
      "outputs": [
        {
          "output_type": "stream",
          "name": "stdout",
          "text": [
            "Looking in indexes: https://pypi.org/simple, https://us-python.pkg.dev/colab-wheels/public/simple/\n",
            "Requirement already satisfied: featuretools in /usr/local/lib/python3.7/dist-packages (1.9.2)\n",
            "Requirement already satisfied: woodwork>=0.16.2 in /usr/local/lib/python3.7/dist-packages (from featuretools) (0.16.3)\n",
            "Requirement already satisfied: numpy>=1.21.0 in /usr/local/lib/python3.7/dist-packages (from featuretools) (1.21.6)\n",
            "Requirement already satisfied: distributed>=2021.10.0 in /usr/local/lib/python3.7/dist-packages (from featuretools) (2022.2.0)\n",
            "Requirement already satisfied: scipy>=1.3.3 in /usr/local/lib/python3.7/dist-packages (from featuretools) (1.4.1)\n",
            "Requirement already satisfied: click>=7.0.0 in /usr/local/lib/python3.7/dist-packages (from featuretools) (7.1.2)\n",
            "Requirement already satisfied: psutil>=5.6.6 in /usr/local/lib/python3.7/dist-packages (from featuretools) (5.9.1)\n",
            "Requirement already satisfied: cloudpickle>=1.5.0 in /usr/local/lib/python3.7/dist-packages (from featuretools) (2.1.0)\n",
            "Requirement already satisfied: tqdm>=4.32.0 in /usr/local/lib/python3.7/dist-packages (from featuretools) (4.64.0)\n",
            "Requirement already satisfied: pandas>=1.3.0 in /usr/local/lib/python3.7/dist-packages (from featuretools) (1.3.5)\n",
            "Requirement already satisfied: dask[dataframe]>=2021.10.0 in /usr/local/lib/python3.7/dist-packages (from featuretools) (2022.2.0)\n",
            "Requirement already satisfied: holidays>=0.13 in /usr/local/lib/python3.7/dist-packages (from featuretools) (0.14.2)\n",
            "Requirement already satisfied: pyyaml>=5.3.1 in /usr/local/lib/python3.7/dist-packages (from dask[dataframe]>=2021.10.0->featuretools) (6.0)\n",
            "Requirement already satisfied: partd>=0.3.10 in /usr/local/lib/python3.7/dist-packages (from dask[dataframe]>=2021.10.0->featuretools) (1.2.0)\n",
            "Requirement already satisfied: packaging>=20.0 in /usr/local/lib/python3.7/dist-packages (from dask[dataframe]>=2021.10.0->featuretools) (21.3)\n",
            "Requirement already satisfied: fsspec>=0.6.0 in /usr/local/lib/python3.7/dist-packages (from dask[dataframe]>=2021.10.0->featuretools) (2022.5.0)\n",
            "Requirement already satisfied: toolz>=0.8.2 in /usr/local/lib/python3.7/dist-packages (from dask[dataframe]>=2021.10.0->featuretools) (0.11.2)\n",
            "Requirement already satisfied: zict>=0.1.3 in /usr/local/lib/python3.7/dist-packages (from distributed>=2021.10.0->featuretools) (2.2.0)\n",
            "Requirement already satisfied: tornado>=5 in /usr/local/lib/python3.7/dist-packages (from distributed>=2021.10.0->featuretools) (5.1.1)\n",
            "Requirement already satisfied: msgpack>=0.6.0 in /usr/local/lib/python3.7/dist-packages (from distributed>=2021.10.0->featuretools) (1.0.3)\n",
            "Requirement already satisfied: jinja2 in /usr/local/lib/python3.7/dist-packages (from distributed>=2021.10.0->featuretools) (2.11.3)\n",
            "Requirement already satisfied: setuptools in /usr/local/lib/python3.7/dist-packages (from distributed>=2021.10.0->featuretools) (57.4.0)\n",
            "Requirement already satisfied: tblib>=1.6.0 in /usr/local/lib/python3.7/dist-packages (from distributed>=2021.10.0->featuretools) (1.7.0)\n",
            "Requirement already satisfied: sortedcontainers!=2.0.0,!=2.0.1 in /usr/local/lib/python3.7/dist-packages (from distributed>=2021.10.0->featuretools) (2.4.0)\n",
            "Requirement already satisfied: python-dateutil in /usr/local/lib/python3.7/dist-packages (from holidays>=0.13->featuretools) (2.8.2)\n",
            "Requirement already satisfied: korean-lunar-calendar in /usr/local/lib/python3.7/dist-packages (from holidays>=0.13->featuretools) (0.2.1)\n",
            "Requirement already satisfied: hijri-converter in /usr/local/lib/python3.7/dist-packages (from holidays>=0.13->featuretools) (2.2.4)\n",
            "Requirement already satisfied: convertdate>=2.3.0 in /usr/local/lib/python3.7/dist-packages (from holidays>=0.13->featuretools) (2.4.0)\n",
            "Requirement already satisfied: pymeeus<=1,>=0.3.13 in /usr/local/lib/python3.7/dist-packages (from convertdate>=2.3.0->holidays>=0.13->featuretools) (0.5.11)\n",
            "Requirement already satisfied: pyparsing!=3.0.5,>=2.0.2 in /usr/local/lib/python3.7/dist-packages (from packaging>=20.0->dask[dataframe]>=2021.10.0->featuretools) (3.0.9)\n",
            "Requirement already satisfied: pytz>=2017.3 in /usr/local/lib/python3.7/dist-packages (from pandas>=1.3.0->featuretools) (2022.1)\n",
            "Requirement already satisfied: locket in /usr/local/lib/python3.7/dist-packages (from partd>=0.3.10->dask[dataframe]>=2021.10.0->featuretools) (1.0.0)\n",
            "Requirement already satisfied: six>=1.5 in /usr/local/lib/python3.7/dist-packages (from python-dateutil->holidays>=0.13->featuretools) (1.15.0)\n",
            "Requirement already satisfied: scikit-learn>=0.22 in /usr/local/lib/python3.7/dist-packages (from woodwork>=0.16.2->featuretools) (1.0.2)\n",
            "Requirement already satisfied: joblib>=0.11 in /usr/local/lib/python3.7/dist-packages (from scikit-learn>=0.22->woodwork>=0.16.2->featuretools) (1.1.0)\n",
            "Requirement already satisfied: threadpoolctl>=2.0.0 in /usr/local/lib/python3.7/dist-packages (from scikit-learn>=0.22->woodwork>=0.16.2->featuretools) (3.1.0)\n",
            "Requirement already satisfied: heapdict in /usr/local/lib/python3.7/dist-packages (from zict>=0.1.3->distributed>=2021.10.0->featuretools) (1.0.1)\n",
            "Requirement already satisfied: MarkupSafe>=0.23 in /usr/local/lib/python3.7/dist-packages (from jinja2->distributed>=2021.10.0->featuretools) (2.0.1)\n"
          ]
        }
      ]
    },
    {
      "cell_type": "code",
      "source": [
        "# pandas and numpy for data manipulation\n",
        "import pandas as pd\n",
        "import numpy as np\n",
        "\n",
        "# featuretools for automated feature engineering\n",
        "import featuretools as ft\n",
        "\n",
        "# matplotlit and seaborn for visualizations\n",
        "import matplotlib.pyplot as plt\n",
        "plt.rcParams['font.size'] = 22\n",
        "import seaborn as sns\n",
        "\n",
        "# Suppress warnings from pandas\n",
        "import warnings\n",
        "warnings.filterwarnings('ignore')\n",
        "\n",
        "# modeling \n",
        "import lightgbm as lgb\n",
        "\n",
        "# utilities\n",
        "from sklearn.model_selection import train_test_split\n",
        "from sklearn.model_selection import KFold\n",
        "from sklearn.metrics import roc_auc_score\n",
        "from sklearn.preprocessing import LabelEncoder\n",
        "\n",
        "# memory management\n",
        "import gc"
      ],
      "metadata": {
        "id": "Ano_jbyWFrtF",
        "colab": {
          "base_uri": "https://localhost:8080/"
        },
        "outputId": "b9645894-625e-4a0f-b02d-e7f323932965"
      },
      "execution_count": null,
      "outputs": [
        {
          "output_type": "stream",
          "name": "stderr",
          "text": [
            "/usr/local/lib/python3.7/dist-packages/woodwork/__init__.py:23: FutureWarning: Woodwork may not support Python 3.7 in next non-bugfix release.\n",
            "  \"Woodwork may not support Python 3.7 in next non-bugfix release.\", FutureWarning\n",
            "/usr/local/lib/python3.7/dist-packages/featuretools/__init__.py:67: FutureWarning: Featuretools may not support Python 3.7 in next non-bugfix release.\n",
            "  FutureWarning,\n"
          ]
        }
      ]
    },
    {
      "cell_type": "code",
      "source": [
        "# Initialize an empty array to hold feature importances\n",
        "feature_importances = np.zeros(X_train.shape[1])\n",
        "\n",
        "# Create the model with several hyperparameters\n",
        "model = lgb.LGBMClassifier(objective='binary', boosting_type = 'goss', n_estimators = 10000, class_weight = 'balanced')"
      ],
      "metadata": {
        "id": "WwptEi7aFrrF"
      },
      "execution_count": null,
      "outputs": []
    },
    {
      "cell_type": "code",
      "source": [
        "# Fit the model twice to avoid overfitting\n",
        "for i in range(2):\n",
        "    \n",
        "    # Split into training and validation set\n",
        "    train_features, valid_features, train_y, valid_y = train_test_split(X, Y, test_size = 0.25, random_state = i)\n",
        "    \n",
        "    # Train using early stopping\n",
        "    model.fit(train_features, train_y, early_stopping_rounds=100, eval_set = [(valid_features, valid_y)], \n",
        "              eval_metric = 'auc', verbose = 200)\n",
        "    \n",
        "    # Record the feature importances\n",
        "    feature_importances += model.feature_importances_"
      ],
      "metadata": {
        "colab": {
          "base_uri": "https://localhost:8080/"
        },
        "id": "Ap8oc0v0Froy",
        "outputId": "8fefd49d-8680-449e-93c1-f4fb36d34712"
      },
      "execution_count": null,
      "outputs": [
        {
          "output_type": "stream",
          "name": "stdout",
          "text": [
            "Training until validation scores don't improve for 100 rounds.\n",
            "Early stopping, best iteration is:\n",
            "[9]\tvalid_0's binary_logloss: 0.420964\tvalid_0's auc: 0.97488\n",
            "Training until validation scores don't improve for 100 rounds.\n",
            "Early stopping, best iteration is:\n",
            "[26]\tvalid_0's binary_logloss: 0.370865\tvalid_0's auc: 0.952703\n"
          ]
        }
      ]
    },
    {
      "cell_type": "code",
      "source": [
        "# Make sure to average feature importances! \n",
        "feature_importances = feature_importances / 2\n",
        "feature_importances = pd.DataFrame({'feature': list(X_train.columns), 'importance': feature_importances}).sort_values('importance', ascending = False)\n",
        "\n",
        "feature_importances.head()"
      ],
      "metadata": {
        "colab": {
          "base_uri": "https://localhost:8080/",
          "height": 206
        },
        "id": "D7jfCNcPFrm0",
        "outputId": "028d4fec-0210-4346-b2e2-3f33ee5d81da"
      },
      "execution_count": null,
      "outputs": [
        {
          "output_type": "execute_result",
          "data": {
            "text/plain": [
              "        feature  importance\n",
              "19      spread2         7.5\n",
              "12     MDVP:APQ         7.0\n",
              "20           D2         7.0\n",
              "21          PPE         6.5\n",
              "0   MDVP:Fo(Hz)         6.0"
            ],
            "text/html": [
              "\n",
              "  <div id=\"df-cde6ab00-5398-481b-b4b2-98594511caa1\">\n",
              "    <div class=\"colab-df-container\">\n",
              "      <div>\n",
              "<style scoped>\n",
              "    .dataframe tbody tr th:only-of-type {\n",
              "        vertical-align: middle;\n",
              "    }\n",
              "\n",
              "    .dataframe tbody tr th {\n",
              "        vertical-align: top;\n",
              "    }\n",
              "\n",
              "    .dataframe thead th {\n",
              "        text-align: right;\n",
              "    }\n",
              "</style>\n",
              "<table border=\"1\" class=\"dataframe\">\n",
              "  <thead>\n",
              "    <tr style=\"text-align: right;\">\n",
              "      <th></th>\n",
              "      <th>feature</th>\n",
              "      <th>importance</th>\n",
              "    </tr>\n",
              "  </thead>\n",
              "  <tbody>\n",
              "    <tr>\n",
              "      <th>19</th>\n",
              "      <td>spread2</td>\n",
              "      <td>7.5</td>\n",
              "    </tr>\n",
              "    <tr>\n",
              "      <th>12</th>\n",
              "      <td>MDVP:APQ</td>\n",
              "      <td>7.0</td>\n",
              "    </tr>\n",
              "    <tr>\n",
              "      <th>20</th>\n",
              "      <td>D2</td>\n",
              "      <td>7.0</td>\n",
              "    </tr>\n",
              "    <tr>\n",
              "      <th>21</th>\n",
              "      <td>PPE</td>\n",
              "      <td>6.5</td>\n",
              "    </tr>\n",
              "    <tr>\n",
              "      <th>0</th>\n",
              "      <td>MDVP:Fo(Hz)</td>\n",
              "      <td>6.0</td>\n",
              "    </tr>\n",
              "  </tbody>\n",
              "</table>\n",
              "</div>\n",
              "      <button class=\"colab-df-convert\" onclick=\"convertToInteractive('df-cde6ab00-5398-481b-b4b2-98594511caa1')\"\n",
              "              title=\"Convert this dataframe to an interactive table.\"\n",
              "              style=\"display:none;\">\n",
              "        \n",
              "  <svg xmlns=\"http://www.w3.org/2000/svg\" height=\"24px\"viewBox=\"0 0 24 24\"\n",
              "       width=\"24px\">\n",
              "    <path d=\"M0 0h24v24H0V0z\" fill=\"none\"/>\n",
              "    <path d=\"M18.56 5.44l.94 2.06.94-2.06 2.06-.94-2.06-.94-.94-2.06-.94 2.06-2.06.94zm-11 1L8.5 8.5l.94-2.06 2.06-.94-2.06-.94L8.5 2.5l-.94 2.06-2.06.94zm10 10l.94 2.06.94-2.06 2.06-.94-2.06-.94-.94-2.06-.94 2.06-2.06.94z\"/><path d=\"M17.41 7.96l-1.37-1.37c-.4-.4-.92-.59-1.43-.59-.52 0-1.04.2-1.43.59L10.3 9.45l-7.72 7.72c-.78.78-.78 2.05 0 2.83L4 21.41c.39.39.9.59 1.41.59.51 0 1.02-.2 1.41-.59l7.78-7.78 2.81-2.81c.8-.78.8-2.07 0-2.86zM5.41 20L4 18.59l7.72-7.72 1.47 1.35L5.41 20z\"/>\n",
              "  </svg>\n",
              "      </button>\n",
              "      \n",
              "  <style>\n",
              "    .colab-df-container {\n",
              "      display:flex;\n",
              "      flex-wrap:wrap;\n",
              "      gap: 12px;\n",
              "    }\n",
              "\n",
              "    .colab-df-convert {\n",
              "      background-color: #E8F0FE;\n",
              "      border: none;\n",
              "      border-radius: 50%;\n",
              "      cursor: pointer;\n",
              "      display: none;\n",
              "      fill: #1967D2;\n",
              "      height: 32px;\n",
              "      padding: 0 0 0 0;\n",
              "      width: 32px;\n",
              "    }\n",
              "\n",
              "    .colab-df-convert:hover {\n",
              "      background-color: #E2EBFA;\n",
              "      box-shadow: 0px 1px 2px rgba(60, 64, 67, 0.3), 0px 1px 3px 1px rgba(60, 64, 67, 0.15);\n",
              "      fill: #174EA6;\n",
              "    }\n",
              "\n",
              "    [theme=dark] .colab-df-convert {\n",
              "      background-color: #3B4455;\n",
              "      fill: #D2E3FC;\n",
              "    }\n",
              "\n",
              "    [theme=dark] .colab-df-convert:hover {\n",
              "      background-color: #434B5C;\n",
              "      box-shadow: 0px 1px 3px 1px rgba(0, 0, 0, 0.15);\n",
              "      filter: drop-shadow(0px 1px 2px rgba(0, 0, 0, 0.3));\n",
              "      fill: #FFFFFF;\n",
              "    }\n",
              "  </style>\n",
              "\n",
              "      <script>\n",
              "        const buttonEl =\n",
              "          document.querySelector('#df-cde6ab00-5398-481b-b4b2-98594511caa1 button.colab-df-convert');\n",
              "        buttonEl.style.display =\n",
              "          google.colab.kernel.accessAllowed ? 'block' : 'none';\n",
              "\n",
              "        async function convertToInteractive(key) {\n",
              "          const element = document.querySelector('#df-cde6ab00-5398-481b-b4b2-98594511caa1');\n",
              "          const dataTable =\n",
              "            await google.colab.kernel.invokeFunction('convertToInteractive',\n",
              "                                                     [key], {});\n",
              "          if (!dataTable) return;\n",
              "\n",
              "          const docLinkHtml = 'Like what you see? Visit the ' +\n",
              "            '<a target=\"_blank\" href=https://colab.research.google.com/notebooks/data_table.ipynb>data table notebook</a>'\n",
              "            + ' to learn more about interactive tables.';\n",
              "          element.innerHTML = '';\n",
              "          dataTable['output_type'] = 'display_data';\n",
              "          await google.colab.output.renderOutput(dataTable, element);\n",
              "          const docLink = document.createElement('div');\n",
              "          docLink.innerHTML = docLinkHtml;\n",
              "          element.appendChild(docLink);\n",
              "        }\n",
              "      </script>\n",
              "    </div>\n",
              "  </div>\n",
              "  "
            ]
          },
          "metadata": {},
          "execution_count": 32
        }
      ]
    },
    {
      "cell_type": "code",
      "source": [
        "# Find the features with zero importance\n",
        "zero_features = list(feature_importances[feature_importances['importance'] == 0.0]['feature'])\n",
        "print('There are %d features with 0.0 importance' % len(zero_features))\n",
        "feature_importances.tail(7)"
      ],
      "metadata": {
        "colab": {
          "base_uri": "https://localhost:8080/",
          "height": 286
        },
        "id": "qYG6IVZxFrk2",
        "outputId": "e60c95b5-0e75-4c30-85cc-e57cf8e98dec"
      },
      "execution_count": null,
      "outputs": [
        {
          "output_type": "stream",
          "name": "stdout",
          "text": [
            "There are 6 features with 0.0 importance\n"
          ]
        },
        {
          "output_type": "execute_result",
          "data": {
            "text/plain": [
              "             feature  importance\n",
              "2       MDVP:Flo(Hz)         0.5\n",
              "10      Shimmer:APQ3         0.0\n",
              "4   MDVP:Jitter(Abs)         0.0\n",
              "6           MDVP:PPQ         0.0\n",
              "7         Jitter:DDP         0.0\n",
              "3     MDVP:Jitter(%)         0.0\n",
              "13       Shimmer:DDA         0.0"
            ],
            "text/html": [
              "\n",
              "  <div id=\"df-fdaa31df-4c5c-418a-a335-2b5cea557ce0\">\n",
              "    <div class=\"colab-df-container\">\n",
              "      <div>\n",
              "<style scoped>\n",
              "    .dataframe tbody tr th:only-of-type {\n",
              "        vertical-align: middle;\n",
              "    }\n",
              "\n",
              "    .dataframe tbody tr th {\n",
              "        vertical-align: top;\n",
              "    }\n",
              "\n",
              "    .dataframe thead th {\n",
              "        text-align: right;\n",
              "    }\n",
              "</style>\n",
              "<table border=\"1\" class=\"dataframe\">\n",
              "  <thead>\n",
              "    <tr style=\"text-align: right;\">\n",
              "      <th></th>\n",
              "      <th>feature</th>\n",
              "      <th>importance</th>\n",
              "    </tr>\n",
              "  </thead>\n",
              "  <tbody>\n",
              "    <tr>\n",
              "      <th>2</th>\n",
              "      <td>MDVP:Flo(Hz)</td>\n",
              "      <td>0.5</td>\n",
              "    </tr>\n",
              "    <tr>\n",
              "      <th>10</th>\n",
              "      <td>Shimmer:APQ3</td>\n",
              "      <td>0.0</td>\n",
              "    </tr>\n",
              "    <tr>\n",
              "      <th>4</th>\n",
              "      <td>MDVP:Jitter(Abs)</td>\n",
              "      <td>0.0</td>\n",
              "    </tr>\n",
              "    <tr>\n",
              "      <th>6</th>\n",
              "      <td>MDVP:PPQ</td>\n",
              "      <td>0.0</td>\n",
              "    </tr>\n",
              "    <tr>\n",
              "      <th>7</th>\n",
              "      <td>Jitter:DDP</td>\n",
              "      <td>0.0</td>\n",
              "    </tr>\n",
              "    <tr>\n",
              "      <th>3</th>\n",
              "      <td>MDVP:Jitter(%)</td>\n",
              "      <td>0.0</td>\n",
              "    </tr>\n",
              "    <tr>\n",
              "      <th>13</th>\n",
              "      <td>Shimmer:DDA</td>\n",
              "      <td>0.0</td>\n",
              "    </tr>\n",
              "  </tbody>\n",
              "</table>\n",
              "</div>\n",
              "      <button class=\"colab-df-convert\" onclick=\"convertToInteractive('df-fdaa31df-4c5c-418a-a335-2b5cea557ce0')\"\n",
              "              title=\"Convert this dataframe to an interactive table.\"\n",
              "              style=\"display:none;\">\n",
              "        \n",
              "  <svg xmlns=\"http://www.w3.org/2000/svg\" height=\"24px\"viewBox=\"0 0 24 24\"\n",
              "       width=\"24px\">\n",
              "    <path d=\"M0 0h24v24H0V0z\" fill=\"none\"/>\n",
              "    <path d=\"M18.56 5.44l.94 2.06.94-2.06 2.06-.94-2.06-.94-.94-2.06-.94 2.06-2.06.94zm-11 1L8.5 8.5l.94-2.06 2.06-.94-2.06-.94L8.5 2.5l-.94 2.06-2.06.94zm10 10l.94 2.06.94-2.06 2.06-.94-2.06-.94-.94-2.06-.94 2.06-2.06.94z\"/><path d=\"M17.41 7.96l-1.37-1.37c-.4-.4-.92-.59-1.43-.59-.52 0-1.04.2-1.43.59L10.3 9.45l-7.72 7.72c-.78.78-.78 2.05 0 2.83L4 21.41c.39.39.9.59 1.41.59.51 0 1.02-.2 1.41-.59l7.78-7.78 2.81-2.81c.8-.78.8-2.07 0-2.86zM5.41 20L4 18.59l7.72-7.72 1.47 1.35L5.41 20z\"/>\n",
              "  </svg>\n",
              "      </button>\n",
              "      \n",
              "  <style>\n",
              "    .colab-df-container {\n",
              "      display:flex;\n",
              "      flex-wrap:wrap;\n",
              "      gap: 12px;\n",
              "    }\n",
              "\n",
              "    .colab-df-convert {\n",
              "      background-color: #E8F0FE;\n",
              "      border: none;\n",
              "      border-radius: 50%;\n",
              "      cursor: pointer;\n",
              "      display: none;\n",
              "      fill: #1967D2;\n",
              "      height: 32px;\n",
              "      padding: 0 0 0 0;\n",
              "      width: 32px;\n",
              "    }\n",
              "\n",
              "    .colab-df-convert:hover {\n",
              "      background-color: #E2EBFA;\n",
              "      box-shadow: 0px 1px 2px rgba(60, 64, 67, 0.3), 0px 1px 3px 1px rgba(60, 64, 67, 0.15);\n",
              "      fill: #174EA6;\n",
              "    }\n",
              "\n",
              "    [theme=dark] .colab-df-convert {\n",
              "      background-color: #3B4455;\n",
              "      fill: #D2E3FC;\n",
              "    }\n",
              "\n",
              "    [theme=dark] .colab-df-convert:hover {\n",
              "      background-color: #434B5C;\n",
              "      box-shadow: 0px 1px 3px 1px rgba(0, 0, 0, 0.15);\n",
              "      filter: drop-shadow(0px 1px 2px rgba(0, 0, 0, 0.3));\n",
              "      fill: #FFFFFF;\n",
              "    }\n",
              "  </style>\n",
              "\n",
              "      <script>\n",
              "        const buttonEl =\n",
              "          document.querySelector('#df-fdaa31df-4c5c-418a-a335-2b5cea557ce0 button.colab-df-convert');\n",
              "        buttonEl.style.display =\n",
              "          google.colab.kernel.accessAllowed ? 'block' : 'none';\n",
              "\n",
              "        async function convertToInteractive(key) {\n",
              "          const element = document.querySelector('#df-fdaa31df-4c5c-418a-a335-2b5cea557ce0');\n",
              "          const dataTable =\n",
              "            await google.colab.kernel.invokeFunction('convertToInteractive',\n",
              "                                                     [key], {});\n",
              "          if (!dataTable) return;\n",
              "\n",
              "          const docLinkHtml = 'Like what you see? Visit the ' +\n",
              "            '<a target=\"_blank\" href=https://colab.research.google.com/notebooks/data_table.ipynb>data table notebook</a>'\n",
              "            + ' to learn more about interactive tables.';\n",
              "          element.innerHTML = '';\n",
              "          dataTable['output_type'] = 'display_data';\n",
              "          await google.colab.output.renderOutput(dataTable, element);\n",
              "          const docLink = document.createElement('div');\n",
              "          docLink.innerHTML = docLinkHtml;\n",
              "          element.appendChild(docLink);\n",
              "        }\n",
              "      </script>\n",
              "    </div>\n",
              "  </div>\n",
              "  "
            ]
          },
          "metadata": {},
          "execution_count": 33
        }
      ]
    },
    {
      "cell_type": "code",
      "source": [
        "def plot_feature_importances(df, threshold = 0.9):\n",
        "    \"\"\"\n",
        "    Plots 15 most important features and the cumulative importance of features.\n",
        "    Prints the number of features needed to reach threshold cumulative importance.\n",
        "    \n",
        "    Parameters\n",
        "    --------\n",
        "    df : dataframe\n",
        "        Dataframe of feature importances. Columns must be feature and importance\n",
        "    threshold : float, default = 0.9\n",
        "        Threshold for prining information about cumulative importances\n",
        "        \n",
        "    Return\n",
        "    --------\n",
        "    df : dataframe\n",
        "        Dataframe ordered by feature importances with a normalized column (sums to 1)\n",
        "        and a cumulative importance column\n",
        "    \n",
        "    \"\"\"\n",
        "    \n",
        "    plt.rcParams['font.size'] = 18\n",
        "    \n",
        "    # Sort features according to importance\n",
        "    df = df.sort_values('importance', ascending = False).reset_index()\n",
        "    \n",
        "    # Normalize the feature importances to add up to one\n",
        "    df['importance_normalized'] = df['importance'] / df['importance'].sum()\n",
        "    df['cumulative_importance'] = np.cumsum(df['importance_normalized'])\n",
        "\n",
        "    # Make a horizontal bar chart of feature importances\n",
        "    plt.figure(figsize = (10, 6))\n",
        "    ax = plt.subplot()\n",
        "    \n",
        "    # Need to reverse the index to plot most important on top\n",
        "    ax.barh(list(reversed(list(df.index[:15]))), \n",
        "            df['importance_normalized'].head(15), \n",
        "            align = 'center', edgecolor = 'k')\n",
        "    \n",
        "    # Set the yticks and labels\n",
        "    ax.set_yticks(list(reversed(list(df.index[:15]))))\n",
        "    ax.set_yticklabels(df['feature'].head(15))\n",
        "    \n",
        "    # Plot labeling\n",
        "    plt.xlabel('Normalized Importance'); plt.title('Feature Importances')\n",
        "    plt.show()\n",
        "    \n",
        "    # Cumulative importance plot\n",
        "    plt.figure(figsize = (8, 6))\n",
        "    plt.plot(list(range(len(df))), df['cumulative_importance'], 'r-')\n",
        "    plt.xlabel('Number of Features'); plt.ylabel('Cumulative Importance'); \n",
        "    plt.title('Cumulative Feature Importance');\n",
        "    plt.show();\n",
        "    \n",
        "    importance_index = np.min(np.where(df['cumulative_importance'] > threshold))\n",
        "    print('%d features required for %0.2f of cumulative importance' % (importance_index + 1, threshold))\n",
        "    \n",
        "    return df"
      ],
      "metadata": {
        "id": "X87-fWX54yqd"
      },
      "execution_count": null,
      "outputs": []
    },
    {
      "cell_type": "code",
      "source": [
        "norm_feature_importances = plot_feature_importances(feature_importances)"
      ],
      "metadata": {
        "id": "--52qvJ0WOYV",
        "colab": {
          "base_uri": "https://localhost:8080/",
          "height": 852
        },
        "outputId": "36d3e33c-d2e7-4404-c02a-eda3560bb033"
      },
      "execution_count": null,
      "outputs": [
        {
          "output_type": "display_data",
          "data": {
            "text/plain": [
              "<Figure size 720x432 with 1 Axes>"
            ],
            "image/png": "[encoded data removed]"
          },
          "metadata": {
            "needs_background": "light"
          }
        },
        {
          "output_type": "display_data",
          "data": {
            "text/plain": [
              "<Figure size 576x432 with 1 Axes>"
            ],
            "image/png": "[encoded data removed]"
          },
          "metadata": {
            "needs_background": "light"
          }
        },
        {
          "output_type": "stream",
          "name": "stdout",
          "text": [
            "10 features required for 0.90 of cumulative importance\n"
          ]
        }
      ]
    },
    {
      "cell_type": "markdown",
      "source": [
        "**Let's remove the features that have zero importance.**"
      ],
      "metadata": {
        "id": "MRnU21YEGx_2"
      }
    },
    {
      "cell_type": "code",
      "source": [
        "print('Training shape: ', X_train.shape)\n",
        "print('Testing shape: ', X_test.shape)\n",
        "print('Testing shape: ', y_train.shape)\n",
        "print('Testing shape: ', y_test.shape)"
      ],
      "metadata": {
        "colab": {
          "base_uri": "https://localhost:8080/"
        },
        "id": "M2JHAiQOICp8",
        "outputId": "c87e2669-39b4-46f2-b24c-57c6eeb973d7"
      },
      "execution_count": null,
      "outputs": [
        {
          "output_type": "stream",
          "name": "stdout",
          "text": [
            "Training shape:  (156, 22)\n",
            "Testing shape:  (39, 22)\n",
            "Testing shape:  (156,)\n",
            "Testing shape:  (39,)\n"
          ]
        }
      ]
    },
    {
      "cell_type": "code",
      "source": [
        "model = LogisticRegression(max_iter = 1000)\n",
        "model.fit(X_train,y_train)\n",
        "print('Train Accuracy: ', model.score(X_train, y_train))\n",
        "#print(model.score(X_test,y_test))\n",
        "\n",
        "pred = model.predict(X_test)\n",
        "\n",
        "print('Test Accuracy: ', accuracy_score(pred, y_test))    \n",
        "print('f1 Score: ', f1_score(pred, y_test))"
      ],
      "metadata": {
        "colab": {
          "base_uri": "https://localhost:8080/"
        },
        "id": "GYqNKM2e5in2",
        "outputId": "b554f793-273e-45e9-c31a-a5acc165c8e0"
      },
      "execution_count": null,
      "outputs": [
        {
          "output_type": "stream",
          "name": "stdout",
          "text": [
            "Train Accuracy:  0.7371794871794872\n",
            "Test Accuracy:  0.8205128205128205\n",
            "f1 Score:  0.9014084507042254\n"
          ]
        }
      ]
    },
    {
      "cell_type": "code",
      "source": [
        "train_x = X_train.drop(columns = zero_features)\n",
        "train_y = y_train.drop(columns = zero_features)\n",
        "test_x = X_test.drop(columns = zero_features)\n",
        "test_y = y_test.drop(columns = zero_features)\n",
        "\n",
        "print('Training shape: ', train_x.shape)\n",
        "print('Testing shape: ', train_y.shape)\n",
        "print('Testing shape: ', test_x.shape)\n",
        "print('Testing shape: ', test_y.shape)"
      ],
      "metadata": {
        "colab": {
          "base_uri": "https://localhost:8080/"
        },
        "id": "n68l09sDGwHE",
        "outputId": "c4226a37-3993-43c4-9f4b-a04fd53b27e8"
      },
      "execution_count": null,
      "outputs": [
        {
          "output_type": "stream",
          "name": "stdout",
          "text": [
            "Training shape:  (156, 16)\n",
            "Testing shape:  (156,)\n",
            "Testing shape:  (39, 16)\n",
            "Testing shape:  (39,)\n"
          ]
        }
      ]
    },
    {
      "cell_type": "code",
      "source": [
        "from sklearn.ensemble import RandomForestRegressor\n",
        "from sklearn.ensemble import RandomForestClassifier\n",
        "\n",
        "\n",
        "model = LogisticRegression(max_iter = 1000)\n",
        "model.fit(train_x,train_y)\n",
        "print('Train Accuracy: ', model.score(train_x, train_y))\n",
        "\n",
        "\n",
        "pred = model.predict(test_x)\n",
        "\n",
        "print('Test Accuracy: ', accuracy_score(pred, test_y))    \n",
        "print('f1 Score: ', f1_score(pred, test_y))\n",
        "\n",
        "cm = confusion_matrix(test_y, pred)\n",
        "\n",
        "plt.figure(figsize=(8,5))\n",
        "sns.heatmap(cm, annot=True);"
      ],
      "metadata": {
        "colab": {
          "base_uri": "https://localhost:8080/",
          "height": 376
        },
        "id": "FUpz0oAyFNZq",
        "outputId": "aa438f58-1541-486a-a573-5890fe435b24"
      },
      "execution_count": null,
      "outputs": [
        {
          "output_type": "stream",
          "name": "stdout",
          "text": [
            "Train Accuracy:  0.7371794871794872\n",
            "Test Accuracy:  0.8205128205128205\n",
            "f1 Score:  0.9014084507042254\n"
          ]
        },
        {
          "output_type": "display_data",
          "data": {
            "text/plain": [
              "<Figure size 576x360 with 2 Axes>"
            ],
            "image/png": "[encoded data removed]"
          },
          "metadata": {
            "needs_background": "light"
          }
        }
      ]
    },
    {
      "cell_type": "markdown",
      "source": [
        "**With ExtraTreesClassifier**"
      ],
      "metadata": {
        "id": "qHVjrXmo9oNA"
      }
    },
    {
      "cell_type": "code",
      "source": [
        "#import libraries\n",
        "from sklearn.ensemble import ExtraTreesClassifier\n",
        "import matplotlib.pyplot as plt\n",
        "\n",
        "#Fit the model\n",
        "model = ExtraTreesClassifier()\n",
        "model.fit(X_train,y_train)\n",
        "\n",
        "print('Train Accuracy: ', model.score(X_train, y_train))\n",
        "pred = model.predict(X_test)\n",
        "\n",
        "print('Test Accuracy: ', accuracy_score(pred, y_test))    \n",
        "print('f1 Score: ', f1_score(pred, y_test))\n",
        "\n",
        "\n"
      ],
      "metadata": {
        "colab": {
          "base_uri": "https://localhost:8080/"
        },
        "id": "Q5UJce9P5c4_",
        "outputId": "ef990786-795a-4413-a1e3-a864a57b18a1"
      },
      "execution_count": null,
      "outputs": [
        {
          "output_type": "stream",
          "name": "stdout",
          "text": [
            "Train Accuracy:  1.0\n",
            "Test Accuracy:  0.8205128205128205\n",
            "f1 Score:  0.8955223880597014\n"
          ]
        }
      ]
    },
    {
      "cell_type": "code",
      "source": [
        "print(model.feature_importances_)"
      ],
      "metadata": {
        "colab": {
          "base_uri": "https://localhost:8080/"
        },
        "id": "gPnt5jpsH5xb",
        "outputId": "ec62664a-254e-46d1-c522-f40588601108"
      },
      "execution_count": null,
      "outputs": [
        {
          "output_type": "stream",
          "name": "stdout",
          "text": [
            "[0.03982101 0.03264173 0.03869594 0.0500433  0.03669612 0.04294689\n",
            " 0.04185228 0.04714376 0.04431479 0.04795075 0.04521017 0.04421254\n",
            " 0.0488399  0.04937702 0.0427114  0.05177755 0.04751654 0.04726953\n",
            " 0.04988161 0.0600898  0.04087853 0.05012884]\n"
          ]
        }
      ]
    },
    {
      "cell_type": "code",
      "source": [
        "plt.rcParams.update({'figure.figsize': (12.0, 8.0)})\n",
        "plt.rcParams.update({'font.size': 14})\n",
        "plt.barh(X.columns, model.feature_importances_)"
      ],
      "metadata": {
        "colab": {
          "base_uri": "https://localhost:8080/",
          "height": 504
        },
        "id": "obfqXdU4xebz",
        "outputId": "3cc85a27-2e40-4174-b033-4ebb0ca16df0"
      },
      "execution_count": null,
      "outputs": [
        {
          "output_type": "execute_result",
          "data": {
            "text/plain": [
              "<BarContainer object of 22 artists>"
            ]
          },
          "metadata": {},
          "execution_count": 154
        },
        {
          "output_type": "display_data",
          "data": {
            "text/plain": [
              "<Figure size 864x576 with 1 Axes>"
            ],
            "image/png": "[encoded data removed]"
          },
          "metadata": {
            "needs_background": "light"
          }
        }
      ]
    },
    {
      "cell_type": "code",
      "source": [
        "sorted_idx = model.feature_importances_.argsort()\n",
        "plt.barh(X.columns[sorted_idx], model.feature_importances_[sorted_idx])\n",
        "plt.xlabel(\"ExtraTreesClassifier Feature Importance\")"
      ],
      "metadata": {
        "colab": {
          "base_uri": "https://localhost:8080/",
          "height": 522
        },
        "id": "yQZA63iWx2qE",
        "outputId": "292f4498-f064-4272-fbeb-35d17b2628ed"
      },
      "execution_count": null,
      "outputs": [
        {
          "output_type": "execute_result",
          "data": {
            "text/plain": [
              "Text(0.5, 0, 'ExtraTreesClassifier Feature Importance')"
            ]
          },
          "metadata": {},
          "execution_count": 155
        },
        {
          "output_type": "display_data",
          "data": {
            "text/plain": [
              "<Figure size 864x576 with 1 Axes>"
            ],
            "image/png": "[encoded data removed]"
          },
          "metadata": {
            "needs_background": "light"
          }
        }
      ]
    },
    {
      "cell_type": "markdown",
      "source": [
        "We got the #1 best feature on FeatureImportance.\n"
      ],
      "metadata": {
        "id": "YUYDSI_R01k-"
      }
    },
    {
      "cell_type": "code",
      "source": [
        "X_train_extraTree = X_train[['spread2']]\n",
        "X_test_extraTree = X_test[['spread2']]\n",
        "\n",
        "#model = ExtraTreesClassifier()\n",
        "model.fit(X_train_extraTree,y_train)\n",
        "print(model.feature_importances_)\n",
        "###\n",
        "print('Train Accuracy: ', model.score(X_train_extraTree, y_train))\n",
        "pred = model.predict(X_test_extraTree)\n",
        "\n",
        "print('Test Accuracy: ', accuracy_score(pred, y_test))    \n",
        "print('f1 Score: ', f1_score(pred, y_test))"
      ],
      "metadata": {
        "colab": {
          "base_uri": "https://localhost:8080/"
        },
        "id": "vSejcWSq01GG",
        "outputId": "0fe6bfe5-6f5f-4f27-aa69-6929fbf40d3c"
      },
      "execution_count": null,
      "outputs": [
        {
          "output_type": "stream",
          "name": "stdout",
          "text": [
            "[1.]\n",
            "Train Accuracy:  1.0\n",
            "Test Accuracy:  0.7435897435897436\n",
            "f1 Score:  0.84375\n"
          ]
        }
      ]
    },
    {
      "cell_type": "markdown",
      "source": [
        "We picked the top 4 features on FeatureImportance"
      ],
      "metadata": {
        "id": "Zu9qV1x8INnF"
      }
    },
    {
      "cell_type": "code",
      "source": [
        "X_train_extraTree = X_train[['spread2','HNR','PPE','MDVP:Jitter(%)']]\n",
        "X_test_extraTree = X_test[['spread2','HNR','PPE','MDVP:Jitter(%)']]\n",
        "\n",
        "#model = ExtraTreesClassifier()\n",
        "model.fit(X_train_extraTree,y_train)\n",
        "print(model.feature_importances_)\n",
        "###\n",
        "print('Train Accuracy: ', model.score(X_train_extraTree, y_train))\n",
        "pred = model.predict(X_test_extraTree)\n",
        "\n",
        "print('Test Accuracy: ', accuracy_score(pred, y_test))    \n",
        "print('f1 Score: ', f1_score(pred, y_test))"
      ],
      "metadata": {
        "colab": {
          "base_uri": "https://localhost:8080/"
        },
        "id": "zjBNUBdT31tK",
        "outputId": "2d3465cd-4a67-42e0-c21e-4211c024eddf"
      },
      "execution_count": null,
      "outputs": [
        {
          "output_type": "stream",
          "name": "stdout",
          "text": [
            "[0.24475879 0.26484998 0.25935308 0.23103815]\n",
            "Train Accuracy:  1.0\n",
            "Test Accuracy:  0.8461538461538461\n",
            "f1 Score:  0.911764705882353\n"
          ]
        }
      ]
    },
    {
      "cell_type": "code",
      "source": [
        "!pip install shap"
      ],
      "metadata": {
        "id": "t7hNhxwDzWd_",
        "colab": {
          "base_uri": "https://localhost:8080/"
        },
        "outputId": "6f1921d6-add5-4ede-cc36-9c5b2e8107f9"
      },
      "execution_count": null,
      "outputs": [
        {
          "output_type": "stream",
          "name": "stdout",
          "text": [
            "Looking in indexes: https://pypi.org/simple, https://us-python.pkg.dev/colab-wheels/public/simple/\n",
            "Requirement already satisfied: shap in /usr/local/lib/python3.7/dist-packages (0.40.0)\n",
            "Requirement already satisfied: scipy in /usr/local/lib/python3.7/dist-packages (from shap) (1.4.1)\n",
            "Requirement already satisfied: numba in /usr/local/lib/python3.7/dist-packages (from shap) (0.51.2)\n",
            "Requirement already satisfied: scikit-learn in /usr/local/lib/python3.7/dist-packages (from shap) (1.0.2)\n",
            "Requirement already satisfied: tqdm>4.25.0 in /usr/local/lib/python3.7/dist-packages (from shap) (4.64.0)\n",
            "Requirement already satisfied: cloudpickle in /usr/local/lib/python3.7/dist-packages (from shap) (2.1.0)\n",
            "Requirement already satisfied: numpy in /usr/local/lib/python3.7/dist-packages (from shap) (1.21.6)\n",
            "Requirement already satisfied: pandas in /usr/local/lib/python3.7/dist-packages (from shap) (1.3.5)\n",
            "Requirement already satisfied: slicer==0.0.7 in /usr/local/lib/python3.7/dist-packages (from shap) (0.0.7)\n",
            "Requirement already satisfied: packaging>20.9 in /usr/local/lib/python3.7/dist-packages (from shap) (21.3)\n",
            "Requirement already satisfied: pyparsing!=3.0.5,>=2.0.2 in /usr/local/lib/python3.7/dist-packages (from packaging>20.9->shap) (3.0.9)\n",
            "Requirement already satisfied: setuptools in /usr/local/lib/python3.7/dist-packages (from numba->shap) (57.4.0)\n",
            "Requirement already satisfied: llvmlite<0.35,>=0.34.0.dev0 in /usr/local/lib/python3.7/dist-packages (from numba->shap) (0.34.0)\n",
            "Requirement already satisfied: pytz>=2017.3 in /usr/local/lib/python3.7/dist-packages (from pandas->shap) (2022.1)\n",
            "Requirement already satisfied: python-dateutil>=2.7.3 in /usr/local/lib/python3.7/dist-packages (from pandas->shap) (2.8.2)\n",
            "Requirement already satisfied: six>=1.5 in /usr/local/lib/python3.7/dist-packages (from python-dateutil>=2.7.3->pandas->shap) (1.15.0)\n",
            "Requirement already satisfied: joblib>=0.11 in /usr/local/lib/python3.7/dist-packages (from scikit-learn->shap) (1.1.0)\n",
            "Requirement already satisfied: threadpoolctl>=2.0.0 in /usr/local/lib/python3.7/dist-packages (from scikit-learn->shap) (3.1.0)\n"
          ]
        }
      ]
    },
    {
      "cell_type": "markdown",
      "source": [
        "**Random Forest Importance**"
      ],
      "metadata": {
        "id": "uRbiPnfcyI_E"
      }
    },
    {
      "cell_type": "code",
      "source": [
        "# Let's load the packages\n",
        "import numpy as np\n",
        "import pandas as pd\n",
        "from sklearn.datasets import load_boston\n",
        "from sklearn.model_selection import train_test_split\n",
        "from sklearn.ensemble import RandomForestRegressor\n",
        "from sklearn.ensemble import RandomForestClassifier\n",
        "from sklearn.inspection import permutation_importance\n",
        "import shap\n",
        "from matplotlib import pyplot as plt\n",
        "\n",
        "plt.rcParams.update({'figure.figsize': (12.0, 8.0)})\n",
        "plt.rcParams.update({'font.size': 14})"
      ],
      "metadata": {
        "id": "KPqkQLGDyBah"
      },
      "execution_count": null,
      "outputs": []
    },
    {
      "cell_type": "code",
      "source": [
        "rf = RandomForestClassifier(n_estimators=100)\n",
        "rf.fit(X_train, y_train)\n",
        "\n",
        "###\n",
        "print('Train Accuracy: ', rf.score(X_train, y_train))\n",
        "pred = rf.predict(X_test)\n",
        "\n",
        "print('Test Accuracy: ', accuracy_score(pred, y_test))    \n",
        "print('f1 Score: ', f1_score(pred, y_test))\n"
      ],
      "metadata": {
        "colab": {
          "base_uri": "https://localhost:8080/"
        },
        "id": "KXNYHCE2yIHS",
        "outputId": "d64926dc-60d2-4894-c82b-3b00a4bd36d1"
      },
      "execution_count": null,
      "outputs": [
        {
          "output_type": "stream",
          "name": "stdout",
          "text": [
            "Train Accuracy:  1.0\n",
            "Test Accuracy:  0.8717948717948718\n",
            "f1 Score:  0.927536231884058\n"
          ]
        }
      ]
    },
    {
      "cell_type": "code",
      "source": [
        "rf.feature_importances_"
      ],
      "metadata": {
        "colab": {
          "base_uri": "https://localhost:8080/"
        },
        "id": "VLoISwk3yIFG",
        "outputId": "52a8d3a3-9c81-4d18-e7ba-5a0e0705ba26"
      },
      "execution_count": null,
      "outputs": [
        {
          "output_type": "execute_result",
          "data": {
            "text/plain": [
              "array([0.02869438, 0.05138043, 0.04413276, 0.04577709, 0.01442283,\n",
              "       0.04307126, 0.04250757, 0.04068036, 0.04442066, 0.04377579,\n",
              "       0.05095567, 0.04698376, 0.05126405, 0.03969309, 0.05329119,\n",
              "       0.06115688, 0.04504509, 0.05121422, 0.0460564 , 0.05503288,\n",
              "       0.04426592, 0.05617772])"
            ]
          },
          "metadata": {},
          "execution_count": 190
        }
      ]
    },
    {
      "cell_type": "code",
      "source": [
        "plt.barh(X.columns, rf.feature_importances_)"
      ],
      "metadata": {
        "colab": {
          "base_uri": "https://localhost:8080/",
          "height": 504
        },
        "id": "D1iJPhuTyIC7",
        "outputId": "96c37b2f-da2d-4784-df81-e64d71c01322"
      },
      "execution_count": null,
      "outputs": [
        {
          "output_type": "execute_result",
          "data": {
            "text/plain": [
              "<BarContainer object of 22 artists>"
            ]
          },
          "metadata": {},
          "execution_count": 191
        },
        {
          "output_type": "display_data",
          "data": {
            "text/plain": [
              "<Figure size 864x576 with 1 Axes>"
            ],
            "image/png": "[encoded data removed]"
          },
          "metadata": {
            "needs_background": "light"
          }
        }
      ]
    },
    {
      "cell_type": "code",
      "source": [
        "sorted_idx = rf.feature_importances_.argsort()\n",
        "plt.barh(X.columns[sorted_idx], rf.feature_importances_[sorted_idx])\n",
        "plt.xlabel(\"Random Forest Feature Importance\")"
      ],
      "metadata": {
        "colab": {
          "base_uri": "https://localhost:8080/",
          "height": 522
        },
        "id": "jrL_ZxfIyIAy",
        "outputId": "826a045b-33fd-4f6a-856c-429213579428"
      },
      "execution_count": null,
      "outputs": [
        {
          "output_type": "execute_result",
          "data": {
            "text/plain": [
              "Text(0.5, 0, 'Random Forest Feature Importance')"
            ]
          },
          "metadata": {},
          "execution_count": 192
        },
        {
          "output_type": "display_data",
          "data": {
            "text/plain": [
              "<Figure size 864x576 with 1 Axes>"
            ],
            "image/png": "[encoded data removed]"
          },
          "metadata": {
            "needs_background": "light"
          }
        }
      ]
    },
    {
      "cell_type": "markdown",
      "source": [
        "With RandomForest FeatureImportance, we will take the 3 best features\n"
      ],
      "metadata": {
        "id": "RP5qDmVp17Bn"
      }
    },
    {
      "cell_type": "code",
      "source": [
        "X_train_randomForest = X_train[['HNR','PPE','spread2']]\n",
        "X_test_ranfomForest = X_test[['HNR','PPE','spread2']]\n",
        "\n",
        "model = RandomForestClassifier(n_estimators=1000)\n",
        "model.fit(X_train_randomForest,y_train)\n",
        "print(model.feature_importances_)\n",
        "###\n",
        "print('Train Accuracy: ', model.score(X_train_randomForest, y_train))\n",
        "pred = model.predict(X_test_ranfomForest)\n",
        "\n",
        "print('Test Accuracy: ', accuracy_score(pred, y_test))    \n",
        "print('f1 Score: ', f1_score(pred, y_test))\n",
        "\n",
        "cm = confusion_matrix(test_y, pred)\n",
        "\n",
        "plt.figure(figsize=(8,5))\n",
        "sns.heatmap(cm, annot=True);"
      ],
      "metadata": {
        "colab": {
          "base_uri": "https://localhost:8080/",
          "height": 393
        },
        "id": "oyAayrIByH-9",
        "outputId": "85241641-4488-4398-a390-cd3fb0bec96b"
      },
      "execution_count": null,
      "outputs": [
        {
          "output_type": "stream",
          "name": "stdout",
          "text": [
            "[0.3446638  0.33897489 0.31636131]\n",
            "Train Accuracy:  1.0\n",
            "Test Accuracy:  0.8974358974358975\n",
            "f1 Score:  0.9411764705882353\n"
          ]
        },
        {
          "output_type": "display_data",
          "data": {
            "text/plain": [
              "<Figure size 576x360 with 2 Axes>"
            ],
            "image/png": "[encoded data removed]"
          },
          "metadata": {
            "needs_background": "light"
          }
        }
      ]
    }
  ]
}