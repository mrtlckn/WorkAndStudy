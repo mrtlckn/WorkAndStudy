{
 "cells": [
  {
   "cell_type": "code",
   "execution_count": 29,
   "id": "bf49aebe",
   "metadata": {},
   "outputs": [],
   "source": [
    "import numpy as np\n",
    "\n",
    "y_predicted = np.array([1,1,0,0,1])\n",
    "y_true = np.array([0.30,0.7,1,0,0.5])"
   ]
  },
  {
   "cell_type": "markdown",
   "id": "6b4bd4dd",
   "metadata": {},
   "source": [
    "# Mean Absolute Error"
   ]
  },
  {
   "cell_type": "code",
   "execution_count": 30,
   "id": "82ea04f8",
   "metadata": {},
   "outputs": [],
   "source": [
    "def mae(y_true,y_predicted):\n",
    "    total_error = 0\n",
    "    for yt,yp in zip(y_true, y_predicted):\n",
    "        total_error += abs(yt - yp)\n",
    "    print(\"Total Error: \", total_error)\n",
    "    mae = total_error / len(y_true)\n",
    "    print(\"Mean absolute error: \", mae)\n",
    "    return mae"
   ]
  },
  {
   "cell_type": "code",
   "execution_count": 31,
   "id": "1e9aa820",
   "metadata": {},
   "outputs": [
    {
     "name": "stdout",
     "output_type": "stream",
     "text": [
      "Total Error:  2.5\n",
      "Mean absolute error:  0.5\n"
     ]
    },
    {
     "data": {
      "text/plain": [
       "0.5"
      ]
     },
     "execution_count": 31,
     "metadata": {},
     "output_type": "execute_result"
    }
   ],
   "source": [
    "mae(y_true,y_predicted)"
   ]
  },
  {
   "cell_type": "code",
   "execution_count": 32,
   "id": "3961eb99",
   "metadata": {},
   "outputs": [
    {
     "data": {
      "text/plain": [
       "0.5"
      ]
     },
     "execution_count": 32,
     "metadata": {},
     "output_type": "execute_result"
    }
   ],
   "source": [
    "#Mae with numpy \n",
    "np.mean(np.abs(y_predicted - y_true))"
   ]
  },
  {
   "cell_type": "code",
   "execution_count": 33,
   "id": "d64f78c8",
   "metadata": {},
   "outputs": [
    {
     "data": {
      "text/plain": [
       "2.5"
      ]
     },
     "execution_count": 33,
     "metadata": {},
     "output_type": "execute_result"
    }
   ],
   "source": [
    "#Total Error with numpy\n",
    "np.sum(np.abs(y_predicted - y_true))"
   ]
  },
  {
   "cell_type": "markdown",
   "id": "8e04a90f",
   "metadata": {},
   "source": [
    "# Implement Log Loss or Binary Cross Entropy"
   ]
  },
  {
   "cell_type": "code",
   "execution_count": 34,
   "id": "e985f2c9",
   "metadata": {},
   "outputs": [
    {
     "data": {
      "text/plain": [
       "array([-43.74911677])"
      ]
     },
     "execution_count": 34,
     "metadata": {},
     "output_type": "execute_result"
    }
   ],
   "source": [
    "np.log([0.0000000000000000001])"
   ]
  },
  {
   "cell_type": "code",
   "execution_count": 35,
   "id": "ea0198b9",
   "metadata": {},
   "outputs": [],
   "source": [
    "eplison = 1e-15"
   ]
  },
  {
   "cell_type": "code",
   "execution_count": 39,
   "id": "6ebbb77f",
   "metadata": {},
   "outputs": [
    {
     "data": {
      "text/plain": [
       "[1, 1, 1e-15, 1e-15, 1]"
      ]
     },
     "execution_count": 39,
     "metadata": {},
     "output_type": "execute_result"
    }
   ],
   "source": [
    "y_predicted_new = [max(i,eplison) for i in y_predicted]\n",
    "y_predicted_new"
   ]
  },
  {
   "cell_type": "code",
   "execution_count": 42,
   "id": "b8f2c667",
   "metadata": {},
   "outputs": [
    {
     "data": {
      "text/plain": [
       "0.999999999999999"
      ]
     },
     "execution_count": 42,
     "metadata": {},
     "output_type": "execute_result"
    }
   ],
   "source": [
    "1-epsilon"
   ]
  },
  {
   "cell_type": "code",
   "execution_count": 40,
   "id": "34bacc19",
   "metadata": {},
   "outputs": [
    {
     "data": {
      "text/plain": [
       "[0.999999999999999, 0.999999999999999, 1e-15, 1e-15, 0.999999999999999]"
      ]
     },
     "execution_count": 40,
     "metadata": {},
     "output_type": "execute_result"
    }
   ],
   "source": [
    "y_predicted_new = [min(i,1-eplison) for i in y_predicted_new]\n",
    "y_predicted_new"
   ]
  },
  {
   "cell_type": "code",
   "execution_count": 41,
   "id": "c4ae4f54",
   "metadata": {},
   "outputs": [
    {
     "data": {
      "text/plain": [
       "array([-9.99200722e-16, -9.99200722e-16, -3.45387764e+01, -3.45387764e+01,\n",
       "       -9.99200722e-16])"
      ]
     },
     "execution_count": 41,
     "metadata": {},
     "output_type": "execute_result"
    }
   ],
   "source": [
    "y_predicted_new = np.array(y_predicted_new)\n",
    "np.log(y_predicted_new)"
   ]
  },
  {
   "cell_type": "code",
   "execution_count": 43,
   "id": "542aafa5",
   "metadata": {},
   "outputs": [
    {
     "data": {
      "text/plain": [
       "17.2696280766844"
      ]
     },
     "execution_count": 43,
     "metadata": {},
     "output_type": "execute_result"
    }
   ],
   "source": [
    "-np.mean(y_true*np.log(y_predicted_new)+(1-y_true)*np.log(1-y_predicted_new))"
   ]
  },
  {
   "cell_type": "code",
   "execution_count": 44,
   "id": "1149cb40",
   "metadata": {},
   "outputs": [],
   "source": [
    "def log_loss(y_true, y_predicted):\n",
    "    y_predicted_new = [max(i,epsilon) for i in y_predicted]\n",
    "    y_predicted_new = [min(i,1-epsilon) for i in y_predicted_new]\n",
    "    y_predicted_new = np.array(y_predicted_new)\n",
    "    return -np.mean(y_true*np.log(y_predicted_new)+(1-y_true)*np.log(1-y_predicted_new))"
   ]
  },
  {
   "cell_type": "code",
   "execution_count": 45,
   "id": "9e6907fb",
   "metadata": {},
   "outputs": [
    {
     "data": {
      "text/plain": [
       "17.2696280766844"
      ]
     },
     "execution_count": 45,
     "metadata": {},
     "output_type": "execute_result"
    }
   ],
   "source": [
    "log_loss(y_true, y_predicted)"
   ]
  },
  {
   "cell_type": "markdown",
   "id": "9ec71069",
   "metadata": {},
   "source": [
    "# Exercise \n",
    "Mean Squared Error (MSE)"
   ]
  },
  {
   "cell_type": "code",
   "execution_count": 83,
   "id": "e95de54d",
   "metadata": {},
   "outputs": [],
   "source": [
    "import numpy as np\n",
    "\n",
    "y_predicted = np.array([1,1,0,0,1])\n",
    "y_true = np.array([0.30,0.7,1,0,0.5])"
   ]
  },
  {
   "cell_type": "code",
   "execution_count": 84,
   "id": "996770e1",
   "metadata": {},
   "outputs": [],
   "source": [
    "def MSE(y_true,y_predicted):\n",
    "    total_error = 0\n",
    "    for yt,yp in zip(y_true, y_predicted):\n",
    "        total_error += (yt-yp)**2\n",
    "    print(\"Total Error: \", total_error)\n",
    "    MSE = total_error / len(y_true)\n",
    "    print(\"Mean Square error: \", MSE)\n",
    "    return MSE"
   ]
  },
  {
   "cell_type": "code",
   "execution_count": 85,
   "id": "f1071844",
   "metadata": {},
   "outputs": [
    {
     "name": "stdout",
     "output_type": "stream",
     "text": [
      "Total Error:  1.83\n",
      "Mean Square error:  0.366\n"
     ]
    },
    {
     "data": {
      "text/plain": [
       "0.366"
      ]
     },
     "execution_count": 85,
     "metadata": {},
     "output_type": "execute_result"
    }
   ],
   "source": [
    "MSE(y_true,y_predicted)"
   ]
  },
  {
   "cell_type": "code",
   "execution_count": 86,
   "id": "f3cced68",
   "metadata": {},
   "outputs": [
    {
     "data": {
      "text/plain": [
       "0.366"
      ]
     },
     "execution_count": 86,
     "metadata": {},
     "output_type": "execute_result"
    }
   ],
   "source": [
    "#MSE with numpy \n",
    "np.mean(np.square(y_true-y_predicted) )"
   ]
  },
  {
   "cell_type": "code",
   "execution_count": 87,
   "id": "b45b1660",
   "metadata": {},
   "outputs": [
    {
     "data": {
      "text/plain": [
       "1.83"
      ]
     },
     "execution_count": 87,
     "metadata": {},
     "output_type": "execute_result"
    }
   ],
   "source": [
    "#Total Error with numpy\n",
    "np.sum(np.square(y_true-y_predicted))"
   ]
  },
  {
   "cell_type": "code",
   "execution_count": null,
   "id": "7e59f642",
   "metadata": {},
   "outputs": [],
   "source": []
  }
 ],
 "metadata": {
  "kernelspec": {
   "display_name": "Python 3 (ipykernel)",
   "language": "python",
   "name": "python3"
  },
  "language_info": {
   "codemirror_mode": {
    "name": "ipython",
    "version": 3
   },
   "file_extension": ".py",
   "mimetype": "text/x-python",
   "name": "python",
   "nbconvert_exporter": "python",
   "pygments_lexer": "ipython3",
   "version": "3.9.6"
  }
 },
 "nbformat": 4,
 "nbformat_minor": 5
}
