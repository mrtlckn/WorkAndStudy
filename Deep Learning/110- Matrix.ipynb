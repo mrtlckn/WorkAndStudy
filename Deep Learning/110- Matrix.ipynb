{
 "cells": [
  {
   "cell_type": "code",
   "execution_count": 1,
   "id": "19fdbb6a",
   "metadata": {},
   "outputs": [],
   "source": [
    "import numpy as np"
   ]
  },
  {
   "cell_type": "code",
   "execution_count": 2,
   "id": "8d49b48f",
   "metadata": {},
   "outputs": [],
   "source": [
    "revenue = np.array([[180,200,220],[24,36,40],[12,18,20]])\n",
    "expenses = np.array([[80,90,100],[10,16,20],[8,10,10]])"
   ]
  },
  {
   "cell_type": "code",
   "execution_count": 6,
   "id": "05e6ec5f",
   "metadata": {},
   "outputs": [
    {
     "data": {
      "text/plain": [
       "array([[100, 110, 120],\n",
       "       [ 14,  20,  20],\n",
       "       [  4,   8,  10]])"
      ]
     },
     "execution_count": 6,
     "metadata": {},
     "output_type": "execute_result"
    }
   ],
   "source": [
    "profit = revenue - expenses\n",
    "profit"
   ]
  },
  {
   "cell_type": "code",
   "execution_count": 10,
   "id": "cc4b84f8",
   "metadata": {},
   "outputs": [],
   "source": [
    "price_per_unit = np.array([1000,400,1200])\n",
    "units = np.array([[30,40,50],[5,10,15],[2,5,7]])"
   ]
  },
  {
   "cell_type": "code",
   "execution_count": 11,
   "id": "0262ac80",
   "metadata": {},
   "outputs": [
    {
     "data": {
      "text/plain": [
       "array([34400, 50000, 64400])"
      ]
     },
     "execution_count": 11,
     "metadata": {},
     "output_type": "execute_result"
    }
   ],
   "source": [
    "np.dot(price_per_unit,units)"
   ]
  },
  {
   "cell_type": "code",
   "execution_count": 15,
   "id": "ce08a073",
   "metadata": {},
   "outputs": [
    {
     "data": {
      "text/plain": [
       "array([[30000, 16000, 60000],\n",
       "       [ 5000,  4000, 18000],\n",
       "       [ 2000,  2000,  8400]])"
      ]
     },
     "execution_count": 15,
     "metadata": {},
     "output_type": "execute_result"
    }
   ],
   "source": [
    "price_per_unit * units"
   ]
  },
  {
   "cell_type": "code",
   "execution_count": 24,
   "id": "09d595d3",
   "metadata": {},
   "outputs": [],
   "source": [
    "#Exercise\n",
    "#url = https://github.com/codebasics/deep-learning-keras-tf-tutorial/blob/master/4_matrix_math/4_matrix_math.md\n",
    "#Q1\n",
    "#Below is some indian companies revenues in US dollars. \n",
    "#Using numpy can you convert this into Indian rupees? 1 USD = 75 INR\n",
    "\n",
    "import numpy as np\n",
    "\n",
    "revenue = np.array([[200,220,250],[68,79,105],[110,140,180],[80,85,90]])\n",
    "inr = np.array([75])"
   ]
  },
  {
   "cell_type": "code",
   "execution_count": 28,
   "id": "2962032a",
   "metadata": {},
   "outputs": [
    {
     "data": {
      "text/plain": [
       "array([[15000, 16500, 18750],\n",
       "       [ 5100,  5925,  7875],\n",
       "       [ 8250, 10500, 13500],\n",
       "       [ 6000,  6375,  6750]])"
      ]
     },
     "execution_count": 28,
     "metadata": {},
     "output_type": "execute_result"
    }
   ],
   "source": [
    "revenue*inr"
   ]
  },
  {
   "cell_type": "code",
   "execution_count": 59,
   "id": "548ac7a7",
   "metadata": {},
   "outputs": [],
   "source": [
    "#Q2\n",
    "#Below is the table showing how many flowers of each type they sold in different months\n",
    "#Also given are the prices of one flower each.\n",
    "#Using this find out their total sales in every month.\n",
    "#\n",
    "\n",
    "units_sold = np.array([[50,60,25],[10,13,5],[40,70,52]])\n",
    "price_per_unit = np.array ([20,30,15])\n"
   ]
  },
  {
   "cell_type": "code",
   "execution_count": 60,
   "id": "96601c80",
   "metadata": {},
   "outputs": [
    {
     "data": {
      "text/plain": [
       "array([1900, 2640, 1430])"
      ]
     },
     "execution_count": 60,
     "metadata": {},
     "output_type": "execute_result"
    }
   ],
   "source": [
    "np.dot(price_per_unit,units_sold)"
   ]
  },
  {
   "cell_type": "code",
   "execution_count": null,
   "id": "3b8131b2",
   "metadata": {},
   "outputs": [],
   "source": []
  },
  {
   "cell_type": "code",
   "execution_count": null,
   "id": "90b297dd",
   "metadata": {},
   "outputs": [],
   "source": []
  }
 ],
 "metadata": {
  "kernelspec": {
   "display_name": "Python 3 (ipykernel)",
   "language": "python",
   "name": "python3"
  },
  "language_info": {
   "codemirror_mode": {
    "name": "ipython",
    "version": 3
   },
   "file_extension": ".py",
   "mimetype": "text/x-python",
   "name": "python",
   "nbconvert_exporter": "python",
   "pygments_lexer": "ipython3",
   "version": "3.9.6"
  }
 },
 "nbformat": 4,
 "nbformat_minor": 5
}
