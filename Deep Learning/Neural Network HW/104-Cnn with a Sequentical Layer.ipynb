{
 "cells": [
  {
   "cell_type": "markdown",
   "id": "29a342e7",
   "metadata": {},
   "source": [
    "# Convolutional Neural Network for MNIST\n",
    "\n"
   ]
  },
  {
   "cell_type": "code",
   "execution_count": 1,
   "id": "dadae393",
   "metadata": {},
   "outputs": [],
   "source": [
    "#Load the necessary modules from Keras that will be used in CNN training\n",
    "from keras.models import Sequential\n",
    "from keras.layers import Dense, Conv2D, Flatten,MaxPooling2D\n",
    "from keras.layers.core import Activation\n",
    "import numpy as np\n",
    "from tensorflow import keras\n",
    "from tensorflow.keras import layers\n"
   ]
  },
  {
   "cell_type": "code",
   "execution_count": 2,
   "id": "01851c43",
   "metadata": {},
   "outputs": [
    {
     "name": "stdout",
     "output_type": "stream",
     "text": [
      "1-shape of training data:  (60000, 28, 28, 1)\n",
      "2-shape of training labels  (60000, 10)\n",
      "5-shape of test data :  (10000, 28, 28, 1)\n",
      "6-shape of test labels  (10000, 10)\n"
     ]
    }
   ],
   "source": [
    "#DataSet\n",
    "from keras.datasets import mnist\n",
    "(X_train, y_train), (X_test, y_test) = mnist.load_data()\n",
    "\n",
    "X_train = X_train.reshape(len(X_train),28,28,1) / 255\n",
    "X_test = X_test.reshape(len(X_test),28,28,1) / 255\n",
    "\n",
    "\n",
    "from tensorflow.keras.utils import to_categorical\n",
    "\n",
    "#one-hot encode target column\n",
    "y_train = to_categorical(y_train)\n",
    "y_test = to_categorical(y_test)\n",
    "\n",
    "\n",
    "\n",
    "\n",
    "print(\"1-shape of training data: \",X_train.shape)\n",
    "print(\"2-shape of training labels \",y_train.shape)\n",
    "#print(\"3-shape of validation data: \",X_val.shape)\n",
    "#print(\"4-shape of validation labels \",y_val.shape)\n",
    "print(\"5-shape of test data : \",X_test.shape)\n",
    "print(\"6-shape of test labels \",y_test.shape)\n"
   ]
  },
  {
   "cell_type": "code",
   "execution_count": 3,
   "id": "7fcfe7a9",
   "metadata": {},
   "outputs": [
    {
     "name": "stdout",
     "output_type": "stream",
     "text": [
      "Model: \"sequential\"\n",
      "_________________________________________________________________\n",
      " Layer (type)                Output Shape              Param #   \n",
      "=================================================================\n",
      " conv2d (Conv2D)             (None, 28, 28, 32)        832       \n",
      "                                                                 \n",
      " max_pooling2d (MaxPooling2D  (None, 14, 14, 32)       0         \n",
      " )                                                               \n",
      "                                                                 \n",
      " conv2d_1 (Conv2D)           (None, 14, 14, 64)        51264     \n",
      "                                                                 \n",
      " max_pooling2d_1 (MaxPooling  (None, 7, 7, 64)         0         \n",
      " 2D)                                                             \n",
      "                                                                 \n",
      " conv2d_2 (Conv2D)           (None, 7, 7, 128)         204928    \n",
      "                                                                 \n",
      " max_pooling2d_2 (MaxPooling  (None, 3, 3, 128)        0         \n",
      " 2D)                                                             \n",
      "                                                                 \n",
      " flatten (Flatten)           (None, 1152)              0         \n",
      "                                                                 \n",
      " dense (Dense)               (None, 100)               115300    \n",
      "                                                                 \n",
      " dense_1 (Dense)             (None, 10)                1010      \n",
      "                                                                 \n",
      " activation (Activation)     (None, 10)                0         \n",
      "                                                                 \n",
      "=================================================================\n",
      "Total params: 373,334\n",
      "Trainable params: 373,334\n",
      "Non-trainable params: 0\n",
      "_________________________________________________________________\n"
     ]
    }
   ],
   "source": [
    "# Build your model according to details given in the World document\n",
    "model = keras.Sequential(\n",
    "    [\n",
    "        keras.Input(shape=(28, 28, 1)),\n",
    "        \n",
    "        layers.Conv2D(32,(5,5), activation='relu', strides = 1,padding='same'),\n",
    "        layers.MaxPooling2D(pool_size=(2, 2)),\n",
    "        layers.Conv2D(64,(5,5), activation='relu', strides = 1,padding='same'),\n",
    "        layers.MaxPooling2D(pool_size=(2, 2)),\n",
    "        layers.Conv2D(128,(5,5), activation='relu', strides = 1,padding='same'),\n",
    "        layers.MaxPooling2D(pool_size=(2, 2)),\n",
    "        layers.Flatten(),\n",
    "        layers.Dense(100, activation=\"relu\"), \n",
    "        layers.Dense(10),   \n",
    "        layers.Activation('softmax')         \n",
    "     ]               \n",
    ")\n",
    "\n",
    "model.summary()"
   ]
  },
  {
   "cell_type": "code",
   "execution_count": 4,
   "id": "b77fa56c",
   "metadata": {
    "scrolled": false
   },
   "outputs": [
    {
     "name": "stdout",
     "output_type": "stream",
     "text": [
      "Epoch 1/5\n",
      "1875/1875 [==============================] - 77s 41ms/step - loss: 0.4583 - accuracy: 0.8697\n",
      "Epoch 2/5\n",
      "1875/1875 [==============================] - 80s 43ms/step - loss: 0.0946 - accuracy: 0.9711\n",
      "Epoch 3/5\n",
      "1875/1875 [==============================] - 84s 45ms/step - loss: 0.0670 - accuracy: 0.9793\n",
      "Epoch 4/5\n",
      "1875/1875 [==============================] - 80s 43ms/step - loss: 0.0525 - accuracy: 0.9840\n",
      "Epoch 5/5\n",
      "1875/1875 [==============================] - 78s 42ms/step - loss: 0.0431 - accuracy: 0.9868\n"
     ]
    },
    {
     "data": {
      "text/plain": [
       "<keras.callbacks.History at 0x1ff6800fb20>"
      ]
     },
     "execution_count": 4,
     "metadata": {},
     "output_type": "execute_result"
    }
   ],
   "source": [
    "\n",
    "\n",
    "# Compile the network wtih categorical_crossentropy, sgd optimizer and accuracy metrics\n",
    "model.compile(loss=\"categorical_crossentropy\", optimizer = \"sgd\", metrics =[\"accuracy\"])\n",
    "\n",
    "model.fit(X_train, y_train, batch_size=32, epochs=5)"
   ]
  },
  {
   "cell_type": "markdown",
   "id": "f03fcdb0",
   "metadata": {},
   "source": []
  },
  {
   "cell_type": "code",
   "execution_count": null,
   "id": "c663ef88",
   "metadata": {},
   "outputs": [],
   "source": []
  },
  {
   "cell_type": "code",
   "execution_count": null,
   "id": "9ae93104",
   "metadata": {},
   "outputs": [],
   "source": []
  },
  {
   "cell_type": "code",
   "execution_count": null,
   "id": "f53d753d",
   "metadata": {},
   "outputs": [],
   "source": []
  }
 ],
 "metadata": {
  "kernelspec": {
   "display_name": "Python 3 (ipykernel)",
   "language": "python",
   "name": "python3"
  },
  "language_info": {
   "codemirror_mode": {
    "name": "ipython",
    "version": 3
   },
   "file_extension": ".py",
   "mimetype": "text/x-python",
   "name": "python",
   "nbconvert_exporter": "python",
   "pygments_lexer": "ipython3",
   "version": "3.9.6"
  }
 },
 "nbformat": 4,
 "nbformat_minor": 5
}
