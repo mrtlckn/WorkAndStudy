{
 "cells": [
  {
   "cell_type": "code",
   "execution_count": 1,
   "id": "47800723",
   "metadata": {},
   "outputs": [
    {
     "data": {
      "text/plain": [
       "-1"
      ]
     },
     "execution_count": 1,
     "metadata": {},
     "output_type": "execute_result"
    }
   ],
   "source": [
    "#Reading Image\n",
    "import cv2 as cv\n",
    "\n",
    "img = cv.imread('happyman2.jpg')\n",
    "cv.imshow('Happy',img)\n",
    "\n",
    "cv.waitKey(0)"
   ]
  },
  {
   "cell_type": "code",
   "execution_count": 2,
   "id": "decb3163",
   "metadata": {},
   "outputs": [],
   "source": [
    "#Reading Video\n",
    "capture = cv.VideoCapture('video.mp4')\n",
    "#cv.VideoCapture(0) or (1) --> webcam\n",
    "\n",
    "while True:\n",
    "    isTrue, frame = capture.read()\n",
    "    cv.imshow('Video',frame)\n",
    "    \n",
    "    if cv.waitKey(5) & 0xFF == ord('d'): #quit for d\n",
    "        break\n",
    "    \n",
    "capture.release()\n",
    "cv.destroyAllWindows()\n",
    "    \n",
    "#CV could not find any more frames after the last frame in the video.\n"
   ]
  },
  {
   "cell_type": "code",
   "execution_count": null,
   "id": "89d055b6",
   "metadata": {},
   "outputs": [],
   "source": []
  }
 ],
 "metadata": {
  "kernelspec": {
   "display_name": "Python 3 (ipykernel)",
   "language": "python",
   "name": "python3"
  },
  "language_info": {
   "codemirror_mode": {
    "name": "ipython",
    "version": 3
   },
   "file_extension": ".py",
   "mimetype": "text/x-python",
   "name": "python",
   "nbconvert_exporter": "python",
   "pygments_lexer": "ipython3",
   "version": "3.8.13"
  }
 },
 "nbformat": 4,
 "nbformat_minor": 5
}
