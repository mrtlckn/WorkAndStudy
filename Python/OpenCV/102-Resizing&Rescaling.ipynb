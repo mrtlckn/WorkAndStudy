{
 "cells": [
  {
   "cell_type": "code",
   "execution_count": 3,
   "id": "2e160510",
   "metadata": {},
   "outputs": [],
   "source": [
    "import cv2 as cv\n",
    "\n",
    "def rescaleFrame(frame, scale = 0.75):\n",
    "    #Images, Videos and live video\n",
    "    width = int(frame.shape[1] * scale)\n",
    "    height = int(frame.shape[0] * scale)\n",
    "    dimensions = (width,height)\n",
    "    \n",
    "    return cv.resize(frame, dimensions, interpolation= cv.INTER_AREA)\n",
    "    \n",
    "def changeRes(width,height):\n",
    "    #only works for live video\n",
    "    capture.set(3,width)\n",
    "    capture.set(4,height)\n",
    "    \n",
    "#Reading Videos\n",
    "capture = cv.VideoCapture('video.mp4')\n",
    "\n",
    "while True:\n",
    "    isTrue, frame = capture.read()\n",
    "    \n",
    "    frame_resized = rescaleFrame(frame)\n",
    "    \n",
    "    cv.imshow('Video',frame)\n",
    "    cv.imshow('Video Resized', frame_resized)\n",
    "    \n",
    "    if cv.waitKey(20) & 0xFF == ord('d'):\n",
    "        break\n",
    "\n",
    "capture.release()\n",
    "cv.destroyAllWindows()"
   ]
  },
  {
   "cell_type": "code",
   "execution_count": null,
   "id": "22b4185d",
   "metadata": {},
   "outputs": [],
   "source": []
  }
 ],
 "metadata": {
  "kernelspec": {
   "display_name": "Python 3 (ipykernel)",
   "language": "python",
   "name": "python3"
  },
  "language_info": {
   "codemirror_mode": {
    "name": "ipython",
    "version": 3
   },
   "file_extension": ".py",
   "mimetype": "text/x-python",
   "name": "python",
   "nbconvert_exporter": "python",
   "pygments_lexer": "ipython3",
   "version": "3.8.13"
  }
 },
 "nbformat": 4,
 "nbformat_minor": 5
}
