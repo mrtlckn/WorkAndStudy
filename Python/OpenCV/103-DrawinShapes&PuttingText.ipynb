{
 "cells": [
  {
   "cell_type": "code",
   "execution_count": 2,
   "id": "a2d4a865",
   "metadata": {},
   "outputs": [],
   "source": [
    "import cv2 as cv\n",
    "import numpy as np"
   ]
  },
  {
   "cell_type": "code",
   "execution_count": 4,
   "id": "382e36d1",
   "metadata": {},
   "outputs": [
    {
     "data": {
      "text/plain": [
       "-1"
      ]
     },
     "execution_count": 4,
     "metadata": {},
     "output_type": "execute_result"
    }
   ],
   "source": [
    "#Blank image\n",
    "blank = np.zeros((500,500,3), dtype='uint8')\n",
    "cv.imshow('Blank',blank)\n",
    "\n",
    "#1. Point the image a certain colour\n",
    "blank[200:300,300:400] = 0,0,255\n",
    "cv.imshow('Red',blank)\n",
    "\n",
    "#2- Draw a Rectangle\n",
    "cv.rectangle(blank,(0,0),(250,250),(0,255,0),thickness=2) \n",
    "#thickness = cv.FILLLED or -1\n",
    "cv.imshow('Rectangle', blank)\n",
    "\n",
    "cv.rectangle(blank,(0,0),(blank.shape[1]//2,blank.shape[0]//2),(0,255,0),thickness=-1)\n",
    "cv.imshow('OtherWay', blank)\n",
    "\n",
    "#3- Draw a Circle\n",
    "cv.circle(blank,(blank.shape[1]//2,blank.shape[0]//2),40,(0,0,255),thickness=3)\n",
    "cv.imshow('Circle',blank)\n",
    "\n",
    "#4- Draw a line\n",
    "cv.line(blank,(0,0),(blank.shape[1]//2,blank.shape[0]//2),(255,255,255),thickness=3)\n",
    "cv.imshow('Line',blank)\n",
    "\n",
    "#5- Write Text\n",
    "cv.putText(blank,'Hello',(255,255),cv.FONT_HERSHEY_TRIPLEX,\n",
    "        1.0,(0,255,0),2)\n",
    "cv.imshow('Text', blank)\n",
    "\n",
    "cv.waitKey(0)"
   ]
  },
  {
   "cell_type": "code",
   "execution_count": null,
   "id": "32e4a5eb",
   "metadata": {},
   "outputs": [],
   "source": [
    "img = cv.imread('img.jpeg')\n",
    "cv.imshow('İmg', img)"
   ]
  }
 ],
 "metadata": {
  "kernelspec": {
   "display_name": "Python 3 (ipykernel)",
   "language": "python",
   "name": "python3"
  },
  "language_info": {
   "codemirror_mode": {
    "name": "ipython",
    "version": 3
   },
   "file_extension": ".py",
   "mimetype": "text/x-python",
   "name": "python",
   "nbconvert_exporter": "python",
   "pygments_lexer": "ipython3",
   "version": "3.9.6"
  }
 },
 "nbformat": 4,
 "nbformat_minor": 5
}
